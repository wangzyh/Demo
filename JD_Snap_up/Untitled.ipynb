{
 "cells": [
  {
   "cell_type": "code",
   "execution_count": 1,
   "metadata": {},
   "outputs": [],
   "source": [
    "img1 = r'D:\\Demo\\JD_Snap_up\\temp\\1.png'\n",
    "img2 = r'D:\\Demo\\JD_Snap_up\\temp\\2.png'\n",
    "import cv2\n",
    "import numpy as np"
   ]
  },
  {
   "cell_type": "code",
   "execution_count": 12,
   "metadata": {},
   "outputs": [],
   "source": [
    "src = cv2.imread(img1)\n",
    "target = cv2.imread(img2)\n",
    "h1, w1, _ = src.shape\n",
    "h2, w2, _ = target.shape\n",
    "src = src[0:h1, w2:w1]\n",
    "blurred = cv2.GaussianBlur(src, (5, 5), 0)\n",
    "blurred2 = cv2.GaussianBlur(target, (3,3), 0)\n",
    "gray = cv2.cvtColor(blurred, cv2.COLOR_BGR2GRAY)\n",
    "gray2 = cv2.cvtColor(blurred2, cv2.COLOR_BGR2GRAY)\n",
    "edge_output = cv2.Canny(gray, 50, 150)\n",
    "edge_output2 = cv2.Canny(gray2, 50, 150)"
   ]
  },
  {
   "cell_type": "code",
   "execution_count": 13,
   "metadata": {},
   "outputs": [],
   "source": [
    "cv2.imshow('gary1',edge_output)\n",
    "cv2.waitKey(0)\n",
    "cv2.destroyAllWindows()"
   ]
  },
  {
   "cell_type": "code",
   "execution_count": 9,
   "metadata": {},
   "outputs": [],
   "source": [
    "cv2.imshow('gary1',edge_output2)\n",
    "cv2.waitKey(0)\n",
    "cv2.destroyAllWindows()"
   ]
  },
  {
   "cell_type": "code",
   "execution_count": 15,
   "metadata": {},
   "outputs": [],
   "source": [
    "result = cv2.matchTemplate(edge_output, edge_output2, cv2.TM_CCOEFF_NORMED)\n",
    "x, y = np.unravel_index(result.argmax(), result.shape)"
   ]
  },
  {
   "cell_type": "code",
   "execution_count": 18,
   "metadata": {},
   "outputs": [
    {
     "data": {
      "text/plain": [
       "192"
      ]
     },
     "execution_count": 18,
     "metadata": {},
     "output_type": "execute_result"
    }
   ],
   "source": [
    "y"
   ]
  },
  {
   "cell_type": "code",
   "execution_count": 15,
   "metadata": {},
   "outputs": [],
   "source": [
    "lines = cv2.HoughLinesP(edge_output, 1, np.pi / 180, 20, minLineLength=15, maxLineGap=8)"
   ]
  },
  {
   "cell_type": "code",
   "execution_count": 18,
   "metadata": {
    "scrolled": true
   },
   "outputs": [
    {
     "name": "stdout",
     "output_type": "stream",
     "text": [
      "[[  2   1 277   1]\n",
      " [  1 107   1   2]\n",
      " [ 97 100 169  81]\n",
      " [143  76 162  81]\n",
      " [199  73 199  42]\n",
      " [232  45 232   2]\n",
      " [  2  87  22  81]\n",
      " [ 17  53  37  58]\n",
      " [249  11 250  28]\n",
      " [224  67 249  59]\n",
      " [173  83 190  87]\n",
      " [143  77 154  62]\n",
      " [176  54 193  52]\n",
      " [193  23 211  25]\n",
      " [174  48 203  25]\n",
      " [  7  71  35  68]\n",
      " [153  83 172  93]\n",
      " [  5  68  26  65]\n",
      " [262  16 262  31]\n",
      " [167  47 182  26]\n",
      " [167  46 182  25]\n",
      " [194  34 201  18]\n",
      " [  3  65  28  62]\n",
      " [146  76 172  82]\n",
      " [176  49 198  41]\n",
      " [155  80 176  75]\n",
      " [231  24 231   2]\n",
      " [  3  66  27  64]]\n",
      "[[[  2   1 277   1]]\n",
      "\n",
      " [[  1 107   1   2]]\n",
      "\n",
      " [[ 97 100 169  81]]\n",
      "\n",
      " [[143  76 162  81]]\n",
      "\n",
      " [[199  73 199  42]]\n",
      "\n",
      " [[232  45 232   2]]\n",
      "\n",
      " [[  2  87  22  81]]\n",
      "\n",
      " [[ 17  53  37  58]]\n",
      "\n",
      " [[249  11 250  28]]\n",
      "\n",
      " [[224  67 249  59]]\n",
      "\n",
      " [[173  83 190  87]]\n",
      "\n",
      " [[143  77 154  62]]\n",
      "\n",
      " [[176  54 193  52]]\n",
      "\n",
      " [[193  23 211  25]]\n",
      "\n",
      " [[174  48 203  25]]\n",
      "\n",
      " [[  7  71  35  68]]\n",
      "\n",
      " [[153  83 172  93]]\n",
      "\n",
      " [[  5  68  26  65]]\n",
      "\n",
      " [[262  16 262  31]]\n",
      "\n",
      " [[167  47 182  26]]\n",
      "\n",
      " [[167  46 182  25]]\n",
      "\n",
      " [[194  34 201  18]]\n",
      "\n",
      " [[  3  65  28  62]]\n",
      "\n",
      " [[146  76 172  82]]\n",
      "\n",
      " [[176  49 198  41]]\n",
      "\n",
      " [[155  80 176  75]]\n",
      "\n",
      " [[231  24 231   2]]\n",
      "\n",
      " [[  3  66  27  64]]]\n"
     ]
    }
   ],
   "source": [
    "print(lines[:, 0, :])\n",
    "print(lines)"
   ]
  },
  {
   "cell_type": "code",
   "execution_count": 19,
   "metadata": {},
   "outputs": [
    {
     "ename": "error",
     "evalue": "OpenCV(4.4.0) C:/Users/appveyor/AppData/Local/Temp/1/pip-req-build-52oirelq/opencv/modules/highgui/src/precomp.hpp:137: error: (-215:Assertion failed) src_depth != CV_16F && src_depth != CV_32S in function 'convertToShow'\n",
     "output_type": "error",
     "traceback": [
      "\u001b[1;31m---------------------------------------------------------------------------\u001b[0m",
      "\u001b[1;31merror\u001b[0m                                     Traceback (most recent call last)",
      "\u001b[1;32m<ipython-input-19-262212cd056d>\u001b[0m in \u001b[0;36m<module>\u001b[1;34m\u001b[0m\n\u001b[1;32m----> 1\u001b[1;33m \u001b[0mcv2\u001b[0m\u001b[1;33m.\u001b[0m\u001b[0mimshow\u001b[0m\u001b[1;33m(\u001b[0m\u001b[1;34m'gary1'\u001b[0m\u001b[1;33m,\u001b[0m\u001b[0mlines\u001b[0m\u001b[1;33m)\u001b[0m\u001b[1;33m\u001b[0m\u001b[1;33m\u001b[0m\u001b[0m\n\u001b[0m\u001b[0;32m      2\u001b[0m \u001b[0mcv2\u001b[0m\u001b[1;33m.\u001b[0m\u001b[0mwaitKey\u001b[0m\u001b[1;33m(\u001b[0m\u001b[1;36m0\u001b[0m\u001b[1;33m)\u001b[0m\u001b[1;33m\u001b[0m\u001b[1;33m\u001b[0m\u001b[0m\n",
      "\u001b[1;31merror\u001b[0m: OpenCV(4.4.0) C:/Users/appveyor/AppData/Local/Temp/1/pip-req-build-52oirelq/opencv/modules/highgui/src/precomp.hpp:137: error: (-215:Assertion failed) src_depth != CV_16F && src_depth != CV_32S in function 'convertToShow'\n"
     ]
    }
   ],
   "source": [
    "cv2.imshow('gary1',lines)\n",
    "cv2.waitKey(0)"
   ]
  },
  {
   "cell_type": "code",
   "execution_count": 10,
   "metadata": {},
   "outputs": [
    {
     "data": {
      "text/plain": [
       "27"
      ]
     },
     "execution_count": 10,
     "metadata": {},
     "output_type": "execute_result"
    }
   ],
   "source": [
    "cv2.imshow('gary1',gary1)\n",
    "cv2.waitKey(0)\n",
    "cv2.destroyAllWindows()"
   ]
  },
  {
   "cell_type": "code",
   "execution_count": 18,
   "metadata": {},
   "outputs": [],
   "source": [
    "otemp = img1\n",
    "oblk = img2\n",
    "target = cv2.imread(otemp, 0)\n",
    "template = cv2.imread(oblk, 0)\n",
    "h, w = target.shape\n",
    "temp = r'D:\\Demo\\JD_Snap_up\\temp\\3.png'\n",
    "targ = r'D:\\Demo\\JD_Snap_up\\temp\\4.png'\n",
    "target = cv2.imread(targ)\n",
    "target = cv2.cvtColor(target, cv2.COLOR_BGR2GRAY)\n",
    "target = abs(255 - target)\n",
    "cv2.imwrite(targ, target)\n",
    "target = cv2.imread(targ)\n",
    "template = cv2.imread(temp)\n",
    "template = template[0:108, 39:278]\n",
    "result = cv2.matchTemplate(target, template, cv2.TM_CCOEFF_NORMED)\n",
    "x, y = np.unravel_index(result.argmax(), result.shape)\n",
    "# 展示圈出来的区域\n",
    "cv2.rectangle(template, (y, x), (y + w, x + h), (7, 249, 151), 2)\n",
    "cv2.imshow('temp', template)\n",
    "cv2.waitKey(0)\n",
    "cv2.destroyAllWindows()"
   ]
  },
  {
   "cell_type": "code",
   "execution_count": 16,
   "metadata": {},
   "outputs": [],
   "source": [
    "cv2.imshow('temp', template)\n",
    "cv2.waitKey(0)\n",
    "cv2.destroyAllWindows()"
   ]
  },
  {
   "cell_type": "code",
   "execution_count": 8,
   "metadata": {},
   "outputs": [
    {
     "data": {
      "text/plain": [
       "(39, 39, 3)"
      ]
     },
     "execution_count": 8,
     "metadata": {},
     "output_type": "execute_result"
    }
   ],
   "source": [
    "target.shape"
   ]
  },
  {
   "cell_type": "code",
   "execution_count": 12,
   "metadata": {
    "scrolled": true
   },
   "outputs": [
    {
     "data": {
      "text/plain": [
       "array([[[255, 255, 255],\n",
       "        [255, 255, 255],\n",
       "        [255, 255, 255],\n",
       "        ...,\n",
       "        [255, 255, 255],\n",
       "        [255, 255, 255],\n",
       "        [255, 255, 255]],\n",
       "\n",
       "       [[ 53,  53,  53],\n",
       "        [ 53,  53,  53],\n",
       "        [ 50,  50,  50],\n",
       "        ...,\n",
       "        [106, 106, 106],\n",
       "        [112, 112, 112],\n",
       "        [165, 165, 165]],\n",
       "\n",
       "       [[ 53,  53,  53],\n",
       "        [ 53,  53,  53],\n",
       "        [ 53,  53,  53],\n",
       "        ...,\n",
       "        [102, 102, 102],\n",
       "        [102, 102, 102],\n",
       "        [102, 102, 102]],\n",
       "\n",
       "       ...,\n",
       "\n",
       "       [[ 64,  64,  64],\n",
       "        [ 64,  64,  64],\n",
       "        [ 64,  64,  64],\n",
       "        ...,\n",
       "        [218, 218, 218],\n",
       "        [215, 215, 215],\n",
       "        [  7, 249, 151]],\n",
       "\n",
       "       [[ 64,  64,  64],\n",
       "        [ 64,  64,  64],\n",
       "        [ 66,  66,  66],\n",
       "        ...,\n",
       "        [219, 219, 219],\n",
       "        [218, 218, 218],\n",
       "        [  7, 249, 151]],\n",
       "\n",
       "       [[ 64,  64,  64],\n",
       "        [ 64,  64,  64],\n",
       "        [ 64,  64,  64],\n",
       "        ...,\n",
       "        [218, 218, 218],\n",
       "        [216, 216, 216],\n",
       "        [  7, 249, 151]]], dtype=uint8)"
      ]
     },
     "execution_count": 12,
     "metadata": {},
     "output_type": "execute_result"
    }
   ],
   "source": [
    "template.shape\n",
    "template[0:108, 39:278]"
   ]
  },
  {
   "cell_type": "code",
   "execution_count": 20,
   "metadata": {},
   "outputs": [],
   "source": [
    "cv2.imshow('temp', target)\n",
    "cv2.waitKey(0)\n",
    "cv2.destroyAllWindows()"
   ]
  },
  {
   "cell_type": "code",
   "execution_count": 21,
   "metadata": {},
   "outputs": [
    {
     "data": {
      "text/plain": [
       "True"
      ]
     },
     "execution_count": 21,
     "metadata": {},
     "output_type": "execute_result"
    }
   ],
   "source": [
    "cv2.imwrite(targ, target)"
   ]
  },
  {
   "cell_type": "code",
   "execution_count": 22,
   "metadata": {},
   "outputs": [
    {
     "data": {
      "text/plain": [
       "True"
      ]
     },
     "execution_count": 22,
     "metadata": {},
     "output_type": "execute_result"
    }
   ],
   "source": [
    "a1 = cv2.imread(img1, 0)\n",
    "a2 = cv2.imread(img2, 0)\n",
    "\n",
    "h1, w1 = a1.shape\n",
    "h2, w2 = a2.shape\n",
    "cv2.imwrite(temp, template[0:h1, w2:w1])\n"
   ]
  },
  {
   "cell_type": "code",
   "execution_count": 19,
   "metadata": {},
   "outputs": [],
   "source": [
    "# 获取图片并灰度化\n",
    "block = cv2.imread(img1, 0)\n",
    "template = cv2.imread(img2, 0)\n",
    "# 二值化后的图片名称\n",
    "blockName = r'D:\\Demo\\JD_Snap_up\\temp\\5.png'\n",
    "templateName = r'D:\\Demo\\JD_Snap_up\\temp\\6.png'\n",
    "# 将二值化后的图片进行保存\n",
    "cv2.imwrite(r'D:\\Demo\\JD_Snap_up\\temp\\5.png', block)\n",
    "cv2.imwrite(r'D:\\Demo\\JD_Snap_up\\temp\\6.png', template)\n",
    "block = cv2.imread(blockName)\n",
    "block = cv2.cvtColor(block, cv2.COLOR_RGB2GRAY)\n",
    "block = abs(255 - block)\n",
    "cv2.imwrite(blockName, block)\n",
    "block = cv2.imread(blockName)\n",
    "template = cv2.imread(templateName)\n",
    "# 获取偏移量\n",
    "result = cv2.matchTemplate(block, template, cv2.TM_CCOEFF_NORMED) # 查找block在template中的位置，返回result是一个矩阵，是每个点的匹配结果\n",
    "x, y = np.unravel_index(result.argmax(), result.shape)"
   ]
  },
  {
   "cell_type": "code",
   "execution_count": 44,
   "metadata": {},
   "outputs": [
    {
     "data": {
      "text/plain": [
       "39"
      ]
     },
     "execution_count": 44,
     "metadata": {},
     "output_type": "execute_result"
    }
   ],
   "source": [
    "x"
   ]
  },
  {
   "cell_type": "code",
   "execution_count": 45,
   "metadata": {},
   "outputs": [
    {
     "data": {
      "text/plain": [
       "0"
      ]
     },
     "execution_count": 45,
     "metadata": {},
     "output_type": "execute_result"
    }
   ],
   "source": [
    "y"
   ]
  },
  {
   "cell_type": "code",
   "execution_count": 36,
   "metadata": {},
   "outputs": [],
   "source": [
    "block = cv2.imread(blockName)\n",
    "block = cv2.cvtColor(block, cv2.COLOR_RGB2GRAY)\n",
    "block = abs(255 - block)"
   ]
  },
  {
   "cell_type": "code",
   "execution_count": 41,
   "metadata": {},
   "outputs": [],
   "source": [
    "block = cv2.imread(img1, 0)\n",
    "template = cv2.imread(img2, 0)"
   ]
  },
  {
   "cell_type": "code",
   "execution_count": 42,
   "metadata": {},
   "outputs": [],
   "source": [
    "cv2.imshow('temp', block)\n",
    "cv2.waitKey(0)\n",
    "cv2.destroyAllWindows()"
   ]
  },
  {
   "cell_type": "code",
   "execution_count": 43,
   "metadata": {},
   "outputs": [],
   "source": [
    "result = cv2.matchTemplate(block, template, cv2.TM_CCOEFF_NORMED)\n",
    "x, y = np.unravel_index(result.argmax(), result.shape)"
   ]
  },
  {
   "cell_type": "code",
   "execution_count": null,
   "metadata": {},
   "outputs": [],
   "source": []
  }
 ],
 "metadata": {
  "kernelspec": {
   "display_name": "Python 3",
   "language": "python",
   "name": "python3"
  },
  "language_info": {
   "codemirror_mode": {
    "name": "ipython",
    "version": 3
   },
   "file_extension": ".py",
   "mimetype": "text/x-python",
   "name": "python",
   "nbconvert_exporter": "python",
   "pygments_lexer": "ipython3",
   "version": "3.7.3"
  }
 },
 "nbformat": 4,
 "nbformat_minor": 4
}
