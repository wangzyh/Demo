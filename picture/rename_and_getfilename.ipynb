{
 "cells": [
  {
   "cell_type": "code",
   "execution_count": 12,
   "metadata": {},
   "outputs": [],
   "source": [
    "import os\n",
    "import re"
   ]
  },
  {
   "cell_type": "code",
   "execution_count": 13,
   "metadata": {},
   "outputs": [],
   "source": [
    "types = 'java'\n",
    "path = 'D:\\Demo\\picture'\n",
    "path = os.path.join(path, types)"
   ]
  },
  {
   "cell_type": "code",
   "execution_count": 14,
   "metadata": {},
   "outputs": [
    {
     "data": {
      "text/plain": [
       "True"
      ]
     },
     "execution_count": 14,
     "metadata": {},
     "output_type": "execute_result"
    }
   ],
   "source": [
    "os.path.isdir(path)"
   ]
  },
  {
   "cell_type": "code",
   "execution_count": 15,
   "metadata": {},
   "outputs": [],
   "source": [
    "python_names = []"
   ]
  },
  {
   "cell_type": "code",
   "execution_count": 16,
   "metadata": {},
   "outputs": [],
   "source": [
    "filelist = os.listdir(path)"
   ]
  },
  {
   "cell_type": "code",
   "execution_count": 17,
   "metadata": {},
   "outputs": [
    {
     "data": {
      "text/plain": [
       "[' 阿里巴巴Java开发手册 java语言编程教程书籍 java设计模式 阿里官方.jpg',\n",
       " '63.Java编程思想.jpg',\n",
       " '64.Java编程规范,高斯林著,陈宗斌,沈金河,中国电力出版社,.jpg',\n",
       " '65.Java网络编程核心技术详解 Java高并发编程详解：多线程与架构设计实战Java虚拟机并发编程.jpg',\n",
       " '66.Java网络编程核心技术详解.jpg',\n",
       " '67.Java网络编程.jpg',\n",
       " '68.Java设计模式及实践.jpg',\n",
       " '7.Java 9模块化开发：核心原则与实践.jpg',\n",
       " '70.JAVA语言程序设计与数据结构.jpg',\n",
       " '73.Java语言程序设计与数据结构.jpg',\n",
       " '76.Java语言袖珍指南.jpg',\n",
       " '77.Java轻松学.jpg',\n",
       " '78.Java项目开发实战入门.jpg',\n",
       " '79.Java高并发编程详解：多线程与架构设计.jpg',\n",
       " '8.Java 9编程参考官方大全.jpg',\n",
       " '80.Java高级程序员面试笔试宝典.jpg',\n",
       " \"81.O'Reilly：Head First Java.jpg\",\n",
       " \"82.O'Reilly：Head First设计模式.jpg\",\n",
       " \"83.O'Reilly：Java与XML.jpg\",\n",
       " '84.Offer来了：Java面试核心知识点精讲.jpg',\n",
       " '85.Spring 5核心原理Spring Cloud微服务架构实战Spring Boot实战JavaEE.jpg',\n",
       " '86.Spring 5核心原理与30个类手写实战.jpg',\n",
       " '87.Spring Boot实战.jpg',\n",
       " '88.Spring Boot实战派.jpg',\n",
       " '89.Spring Boot编程思想.jpg',\n",
       " '9.Java EE互联网轻量级框架整合开发 SSM框架和Redis实现.jpg',\n",
       " '90.Spring Security实战.jpg',\n",
       " '91.Spring实战 第5版.jpg',\n",
       " '92.云原生Java：Spring Boot、Spring Cloud与Cloud Foundry弹性系统设计.jpg',\n",
       " '93.传智播客Java2018 java基础入门 java从入门到精通 java语言程序设计编程思想教程.jpg',\n",
       " '94.全国高等职业教育规划教材·Java Web设计实用教程：基于Eclipse环境的应用开发.jpg',\n",
       " '95.写给大忙人的Java SE 9核心技术.jpg',\n",
       " '96.华章专业开发者丛书·Java并发编程实战.jpg',\n",
       " '97.图解Java多线程设计模式.jpg',\n",
       " '98.图解数据结构：使用Java.jpg',\n",
       " '99.大型网站系统与Java中间件实践.jpg',\n",
       " 'Effective Java.jpg',\n",
       " 'Effective Java中文版.jpg',\n",
       " 'Java 11官方入门教程.jpg',\n",
       " 'Java 8入门与实践.jpg',\n",
       " 'Java 8函数式编程.jpg',\n",
       " 'Java 8实战.jpg',\n",
       " 'Java JDK 9学习笔记.jpg',\n",
       " 'Java Web开发实例大全 基础卷 配光盘 软件工程师开发大系.jpg',\n",
       " 'Java Web整合开发王者归来+Java Web整合开发实战.jpg',\n",
       " 'Java Web编程实战宝典+Java Web整合开发实战.jpg',\n",
       " 'Java Web编程实战宝典：JSP+Servlet+Struts 2+Hibernate+Spring+Ajax.jpg',\n",
       " 'Java 从入门到项目实践.jpg',\n",
       " 'Java8实战.jpg',\n",
       " 'JavaEE开发的颠覆者：Spring Boot实战.jpg',\n",
       " 'JavaScript权威指南.jpg',\n",
       " 'JavaWeb项目开发实战入门.jpg',\n",
       " 'java书籍Java从入门到项目实战java软件编程入门自学书.jpg',\n",
       " 'Java从入门到精通 第5版.jpg',\n",
       " 'Java从入门到精通 精粹版.jpg',\n",
       " 'Java从入门到精通.jpg',\n",
       " 'Java从入门到项目实战.jpg',\n",
       " 'Java从小白到大牛.jpg',\n",
       " 'Java代码与架构之完美优化 实战经典.jpg',\n",
       " 'Java入门123：一个老鸟的Java学习心得.jpg',\n",
       " 'Java四大名著：Java编程思想+java核心技术 +effective java.jpg',\n",
       " 'Java四大名著：Java编程思想+java核心技术 卷1 卷2+ effective java.jpg',\n",
       " 'Java基础入门 第2版 黑马程序员 经典Java入门教材书籍.jpg',\n",
       " 'Java多线程与Socket：实战微服务框架.jpg',\n",
       " 'Java多线程编程实战指南：设计模式篇.jpg',\n",
       " 'Java多线程编程核心技术 华章图书 Java核心技术系列.jpg',\n",
       " 'Java多线程编程核心技术.jpg',\n",
       " 'Java学习黄金组合套装.jpg',\n",
       " 'Java实战 第2版.jpg',\n",
       " 'Java常用算法手册.jpg',\n",
       " 'Java并发实现原理：JDK源码剖析.jpg',\n",
       " 'Java并发编程之美.jpg',\n",
       " 'Java并发编程的艺术.jpg',\n",
       " 'Java并发编程：核心方法与框架 Java异步编程多线程编程核心技术深入理解Java虚拟机：JVM.jpg',\n",
       " 'Java并发编程：核心方法与框架 Java核心技术多线程编程核心技术深入理解Java虚拟机 入门书.jpg',\n",
       " 'JAVA开发专家·精通Hibernate：Java对象持久化技术详解.jpg',\n",
       " 'Java开发从入门到精通 第2版 基于Java 11版本讲解.jpg',\n",
       " 'Java开发详解.jpg',\n",
       " 'Java异步编程实战.jpg',\n",
       " 'Java机器学习.jpg',\n",
       " 'Java架构师指南.jpg',\n",
       " 'Java核心技术 卷I 基础知识.jpg',\n",
       " 'Java核心技术 卷II 高级特性.jpg',\n",
       " 'Java核心技术 卷I卷II 基础知识+高级特性+Java并发编程+Java高并发编程详解多线程编程.jpg',\n",
       " 'Java核心技术 卷I：基础知识.jpg',\n",
       " 'Java核心技术卷II：高级特性.jpg',\n",
       " 'Java核心技术第10版 卷I+卷II 套装共2册.jpg',\n",
       " 'Java核心技术系列：Java虚拟机规范.jpg',\n",
       " 'Java程序员面试宝典.jpg',\n",
       " 'Java程序员面试笔试宝典.jpg',\n",
       " 'Java程序设计从入门到精通 零基础学java9语言核心技术开发实战教材 java编程思想教程书籍.jpg',\n",
       " 'Java精彩编程200例.jpg',\n",
       " 'Java系统性能优化实战.jpg',\n",
       " 'Java经典实例.jpg',\n",
       " 'Java编程思想.jpg',\n",
       " '官方正版包邮 码出高效 Java开发手册 杨冠宝 高海慧 Java开发核心技术 Java程序开发书籍.jpg',\n",
       " '实战Java虚拟机：JVM故障诊断与性能优化.jpg',\n",
       " '实战Java高并发程序设计.jpg',\n",
       " '揭秘Java虚拟机：JVM设计原理与实现.jpg',\n",
       " '数据结构与算法Java语言描述.jpg',\n",
       " '数据结构与算法分析：Java语言描述 原书第3版.jpg',\n",
       " '架构探险：从零开始写Java Web框架.jpg',\n",
       " '深入分析Java Web技术内幕.jpg',\n",
       " '深入理解Java虚拟机：JVM高级特性与最佳实践.jpg',\n",
       " '深入理解Spring MVC源代码：从原理分析到实战应用.jpg',\n",
       " '疯狂Java讲义.jpg',\n",
       " '码农翻身：用故事给技术加点料.jpg',\n",
       " '码出高效：Java开发手册.jpg',\n",
       " '神经网络算法与实现 基于Java语言.jpg',\n",
       " '第一行代码 Java 视频讲解版.jpg',\n",
       " '精通lambda表达式：Java多核编程.jpg',\n",
       " '经典原版书库·数据结构与算法分析：Java语言描述.jpg',\n",
       " '软件开发实战：Java Web开发实战.jpg',\n",
       " '软件开发自学视频教程：Java Web自学视频教程.jpg',\n",
       " '重构 改善既有代码的设计 Java语言版.jpg',\n",
       " '阿里巴巴Java开发手册.jpg',\n",
       " '零基础Java从入门到精通编程自学入门 配视频教学java语言程序设计电脑编程思想软件开发教程R 零基础Java从入门到精通.jpg',\n",
       " '零基础学Java.jpg']"
      ]
     },
     "execution_count": 17,
     "metadata": {},
     "output_type": "execute_result"
    }
   ],
   "source": [
    "filelist"
   ]
  },
  {
   "cell_type": "code",
   "execution_count": 7,
   "metadata": {},
   "outputs": [],
   "source": [
    "filelist = os.listdir(path)\n",
    "# rename\n",
    "for i in range(len(filelist)):\n",
    "    file = filelist[i]\n",
    "\n",
    "    Olddir = os.path.join(path,file)\n",
    "    if os.path.isdir(Olddir):\n",
    "        continue\n",
    "    filename = os.path.splitext(file)[0]\n",
    "    filetype = \".jpg\"\n",
    "    new_name = filename.replace('《','').replace('》','')\n",
    "    new_name = re.sub('\\\\(.*?\\\\)|\\\\（.*?\\\\）','',new_name).rstrip()\n",
    "    Newdir = os.path.join(path,str(i)+'.'+new_name+filetype) \n",
    "    os.rename(Olddir,Newdir)"
   ]
  },
  {
   "cell_type": "code",
   "execution_count": 75,
   "metadata": {},
   "outputs": [],
   "source": [
    "filelist = os.listdir(path)"
   ]
  },
  {
   "cell_type": "code",
   "execution_count": 17,
   "metadata": {},
   "outputs": [],
   "source": [
    "python_names = []\n",
    "filelist = os.listdir(path)\n",
    "# get file name\n",
    "for file in filelist:\n",
    "    Olddir = os.path.join(path,file)\n",
    "    if os.path.isdir(Olddir):\n",
    "        continue\n",
    "    filename = os.path.splitext(file)[0]\n",
    "    filename = re.sub(r'^\\d+.',r'',filename)\n",
    "    python_names.append(filename)"
   ]
  },
  {
   "cell_type": "code",
   "execution_count": 18,
   "metadata": {},
   "outputs": [
    {
     "data": {
      "text/plain": [
       "['Django企业开发实战 高效Python Web框架指南',\n",
       " 'Effective Python：编写高质量Python代码的59个有效方法',\n",
       " 'Python Cookbook中文版',\n",
       " 'Python语言程序设计',\n",
       " 'Python语言程序设计中文版 计算机科学丛书 梁勇 机械工业社 以实例教实践学 采用基础',\n",
       " 'Python语言程序设计基础-嵩天、礼欣、黄天羽-高等教育出版社',\n",
       " 'Python量化交易',\n",
       " 'Python量化交易：策略、技巧与实战',\n",
       " 'Python金融大数据挖掘与分析全流程详解',\n",
       " 'Python金融数据分析 Python，数据分析，金融，金融数据',\n",
       " 'Python零基础入门学习-水木书荟',\n",
       " 'Python项目开发案例集锦',\n",
       " 'Python高性能编程',\n",
       " 'Python Django Web典型模块开发实战',\n",
       " 'Python高效开发实战：Django、Tornado、Flask、Twisted',\n",
       " 'Python高级数据分析：机器学习、深度学习和NLP实例 计算机与互联网',\n",
       " 'Python高级编程 第2版',\n",
       " 'Selenium 3+Python 3自动化测试项目实战：从菜鸟到高手',\n",
       " 'Vim 8文本处理实战',\n",
       " '人人都懂设计模式：从生活中领悟设计模式',\n",
       " '从Python开始学编程',\n",
       " '从零开始学Python数据分析',\n",
       " '你也能看得懂的Python算法书',\n",
       " '像计算机科学家一样思考Python 第2版',\n",
       " 'Python GUI设计：tkinter菜鸟编程',\n",
       " '写给系统管理员的Python脚本编程指南',\n",
       " '利用Python进行数据分析',\n",
       " '图解LeetCode初级算法',\n",
       " '图解Python--轻松快速掌握实力派脚本语言精华',\n",
       " '图解算法 使用Python',\n",
       " '基于ArcGIS的Python编程秘笈',\n",
       " '基于Python的大数据分析基础及实战',\n",
       " '基于Python的金融分析与风险管理',\n",
       " '对比Excel，轻松学习Python数据分析',\n",
       " '小天才学Python',\n",
       " 'Python Qt GUI与数据可视化编程',\n",
       " '快乐机器学习',\n",
       " '我的Python世界 玩Minecraft我的世界学Python编程',\n",
       " '教孩子学编程 Python语言版',\n",
       " '数据科学导论——R与Python实现',\n",
       " '数据结构 Python语言描述 大学教材',\n",
       " '数据结构与算法：Python语言实现',\n",
       " '机器学习入门：基于数学原理的Python实战',\n",
       " '机器学习实战',\n",
       " '机器学习：使用OpenCV和Python进行智能图像处理',\n",
       " '正版 高教版PYTHON语言程序设计冲刺试卷',\n",
       " 'Python Qt GUI快速编程：PyQt编程指南',\n",
       " '流畅的Python',\n",
       " '深入理解神经网络 从逻辑回归到CNN',\n",
       " '深度学习之PyTorch实战计算机视觉',\n",
       " '深度学习入门 基于Python的理论与实现',\n",
       " '深度学习：基于Keras的Python实践',\n",
       " '父与子的编程之旅：与小卡特一起学Python',\n",
       " '玩着也能学Python',\n",
       " '用Python写网络爬虫 第2版',\n",
       " '疯狂Python讲义',\n",
       " '神经网络与深度学习：基于TensorFlow框架和Python技术实现',\n",
       " 'Python 快速入门 第3版',\n",
       " '笨办法学Python 3',\n",
       " '算法图解',\n",
       " '精通Python爬虫框架Scrapy',\n",
       " '编程猫中国孩子的编程学习读本：玩着也能学编程+玩着也能学Python',\n",
       " '读故事学编程――Python王国历险记',\n",
       " '谁说菜鸟不会数据分析',\n",
       " '贝叶斯思维 统计建模的Python学习法',\n",
       " '趣学Python：教孩子学编程',\n",
       " '跟老齐学Python：Django实战',\n",
       " '量化投资：以Python为工具',\n",
       " 'PYTHON 新手学DJANGO 2.0架站的16堂课',\n",
       " '零基础入门学习Python',\n",
       " '零基础学Python',\n",
       " '零基础搭建量化投资系统――以Python为工具',\n",
       " '零基础轻松学Python',\n",
       " 'Python 网络爬虫从入门到精通',\n",
       " 'Python 黑帽子：黑客与渗透测试编程之道',\n",
       " 'Python3爬虫实战——数据清洗、数据分析与可视化',\n",
       " 'Head First Python',\n",
       " 'Python人脸识别：从入门到工程实践',\n",
       " 'Python从入门到实践 上下册 Python编程入门指南 零基础自学pytho基础到精通书籍',\n",
       " 'Python从入门到精通',\n",
       " 'Python从入门到项目实践',\n",
       " 'Python从小白到大牛',\n",
       " 'Python从菜鸟到高手',\n",
       " 'Python入门三剑客：零基础编程+数据分析+机器学习',\n",
       " 'Python全栈开发三剑客',\n",
       " 'Python函数式编程 第2版',\n",
       " 'Python参考手册 第4版 修订版',\n",
       " \"O'Reilly：Python学习手册\",\n",
       " 'Python在机器学习中的应用+ 编程从零基础到项目实战+大数据分析基础及实战',\n",
       " 'Python在机器学习中的应用',\n",
       " 'Python地理空间分析指南',\n",
       " 'Python基础教程',\n",
       " 'Python基础视频教程',\n",
       " 'Python学习手册',\n",
       " 'Python学习笔记：从入门到实战',\n",
       " 'Python学习黄金组合套装',\n",
       " 'Python少儿趣味编程',\n",
       " 'Python接口自动化测试',\n",
       " 'PyQt5快速开发与实战',\n",
       " 'Python数学编程',\n",
       " 'Python数据分析 活用Pandas库',\n",
       " 'Python数据分析 第2版',\n",
       " 'Python数据分析与挖掘实战 张良均 机械工业出版社',\n",
       " 'Python数据分析与数据化运营',\n",
       " 'Python数据分析入门――从数据获取到可视化',\n",
       " 'Python数据分析基础',\n",
       " 'Python数据分析基础教程 NumPy学习指南 第2版 Python基础教程',\n",
       " 'Python数据分析实战 第2版',\n",
       " 'Python数据可视化之matplotlib实践',\n",
       " 'Python数据可视化之matplotlib精进',\n",
       " 'Python数据可视化之美：专业图表绘制指南',\n",
       " 'Python数据可视化编程实战 第2版',\n",
       " 'Python数据处理',\n",
       " 'Python数据科学手册',\n",
       " 'Python数据结构与算法分析 第2版',\n",
       " 'Python期货量化交易实战',\n",
       " 'Python机器学习',\n",
       " 'Python机器学习基础教程',\n",
       " 'Python机器学习手册：从数据预处理到深度学习',\n",
       " 'Python极客项目编程',\n",
       " 'Python核心编程',\n",
       " 'Python核心编程',\n",
       " 'Python深度学习',\n",
       " 'Python深度学习：基于PyTorch',\n",
       " 'Python游戏编程入门',\n",
       " 'Python游戏编程快速上手 第4版',\n",
       " 'Python真好玩：教孩子学编程）',\n",
       " 'Python神经网络编程',\n",
       " 'Python科学计算',\n",
       " 'Python程序员面试宝典 剑指offer',\n",
       " 'Python程序设计 第3版)',\n",
       " 'Python程序设计基础',\n",
       " 'Python算法教程',\n",
       " 'Python算法详解',\n",
       " 'Python经典实例',\n",
       " 'Python绝技：运用Python成为顶级黑客',\n",
       " 'Python统计分析',\n",
       " 'Python编程 从入门到实践',\n",
       " 'Python编程',\n",
       " 'Python 3标准库',\n",
       " 'Python编程与初级数学',\n",
       " 'Python编程从入门到实践+Python编程快速上手+Python极客项目编程 pyt',\n",
       " 'Python编程从入门到精通 项目开发视频学习版',\n",
       " 'Python编程从数据分析到机器学习实践',\n",
       " 'Python编程从零基础到项目实战',\n",
       " 'Python编程入门',\n",
       " 'Python编程快速上手',\n",
       " 'Python编程无师自通 专业程序员的养成',\n",
       " 'Python编程锦囊',\n",
       " 'Python网络爬虫从入门到实践 第2版',\n",
       " 'Python 3网络爬虫开发实战',\n",
       " 'Python网络爬虫从入门到实践',\n",
       " 'Python网络爬虫开发从入门到精通',\n",
       " 'Python网络爬虫权威指南 第2版',\n",
       " 'Python网络编程',\n",
       " 'Python自动化测试实战',\n",
       " 'Python自动化运维快速入门',\n",
       " 'Python自然语言处理',\n",
       " 'Python自然语言处理实战：核心技术与算法',\n",
       " 'Python计算机视觉编程',\n",
       " 'Python语言及其应用',\n",
       " 'names']"
      ]
     },
     "execution_count": 18,
     "metadata": {},
     "output_type": "execute_result"
    }
   ],
   "source": [
    "python_names"
   ]
  },
  {
   "cell_type": "code",
   "execution_count": 13,
   "metadata": {},
   "outputs": [],
   "source": [
    "# write file name\n",
    "with open(f'{path}names.txt', 'w') as f:\n",
    "    for name in python_names:\n",
    "#         name = re.sub(r'^\\d+.',r'',name)\n",
    "        f.write(str(name)+'\\n')"
   ]
  },
  {
   "cell_type": "code",
   "execution_count": 39,
   "metadata": {},
   "outputs": [
    {
     "data": {
      "text/plain": [
       "'89.Python编程从入门到精通 项目开发视频学习版.jpg'"
      ]
     },
     "execution_count": 39,
     "metadata": {},
     "output_type": "execute_result"
    }
   ],
   "source": [
    "n =filelist[0]\n",
    "n"
   ]
  },
  {
   "cell_type": "code",
   "execution_count": 25,
   "metadata": {},
   "outputs": [
    {
     "data": {
      "text/plain": [
       "''"
      ]
     },
     "execution_count": 25,
     "metadata": {},
     "output_type": "execute_result"
    }
   ],
   "source": [
    "filename = os.path.splitext(n)[0]\n",
    "re.sub(r'^\\d+.',r'',filename)"
   ]
  },
  {
   "cell_type": "code",
   "execution_count": 41,
   "metadata": {},
   "outputs": [
    {
     "data": {
      "text/plain": [
       "'89'"
      ]
     },
     "execution_count": 41,
     "metadata": {},
     "output_type": "execute_result"
    }
   ],
   "source": [
    "n.split('.')[0]"
   ]
  },
  {
   "cell_type": "code",
   "execution_count": 44,
   "metadata": {},
   "outputs": [
    {
     "data": {
      "text/plain": [
       "True"
      ]
     },
     "execution_count": 44,
     "metadata": {},
     "output_type": "execute_result"
    }
   ],
   "source": [
    "n.split('.')[0].isdigit()"
   ]
  },
  {
   "cell_type": "code",
   "execution_count": 99,
   "metadata": {},
   "outputs": [
    {
     "data": {
      "text/plain": [
       "'5.Python 3.7从入门到精通'"
      ]
     },
     "execution_count": 99,
     "metadata": {},
     "output_type": "execute_result"
    }
   ],
   "source": [
    "filename"
   ]
  },
  {
   "cell_type": "code",
   "execution_count": 90,
   "metadata": {},
   "outputs": [
    {
     "data": {
      "text/plain": [
       "'Python 3'"
      ]
     },
     "execution_count": 90,
     "metadata": {},
     "output_type": "execute_result"
    }
   ],
   "source": [
    "a"
   ]
  },
  {
   "cell_type": "code",
   "execution_count": 24,
   "metadata": {},
   "outputs": [],
   "source": [
    "# 去编号\n",
    "filelist = os.listdir(path)\n",
    "for file in filelist:\n",
    "    Olddir = os.path.join(path,file)\n",
    "    if os.path.isdir(Olddir):\n",
    "        continue\n",
    "    filename = os.path.splitext(file)[0]\n",
    "    filename_removed.append(filename)\n",
    "    filetype = \".jpg\"\n",
    "    new_name = re.sub(r'^\\d+.',r'',filename)\n",
    "    # new_name = re.sub('\\\\(.*?\\\\)|\\\\（.*?\\\\）','',new_name)\n",
    "    Newdir = os.path.join(path,new_name+filetype) \n",
    "    try:\n",
    "        os.rename(Olddir,Newdir)\n",
    "    except FileExistsError:\n",
    "        continue"
   ]
  },
  {
   "cell_type": "code",
   "execution_count": 116,
   "metadata": {},
   "outputs": [
    {
     "data": {
      "text/plain": [
       "'零基础轻松学Python'"
      ]
     },
     "execution_count": 116,
     "metadata": {},
     "output_type": "execute_result"
    }
   ],
   "source": [
    "new_name.rstrip()"
   ]
  },
  {
   "cell_type": "code",
   "execution_count": 48,
   "metadata": {},
   "outputs": [],
   "source": [
    "# 给文件排序并重命名\n",
    "filelist = os.listdir(path)\n",
    "for i in range(len(filelist)):\n",
    "    file = filelist[i]\n",
    "\n",
    "    Olddir = os.path.join(path,file)\n",
    "    if os.path.isdir(Olddir):\n",
    "        continue\n",
    "    filename = os.path.splitext(file)[0]\n",
    "    if filename.split('.')[0].isdigit():\n",
    "        continue\n",
    "        \n",
    "    filetype = \".jpg\"\n",
    "    new_name = str(i)+'.'+filename\n",
    "    Newdir = os.path.join(path,new_name+filetype) \n",
    "    os.rename(Olddir,Newdir)"
   ]
  },
  {
   "cell_type": "code",
   "execution_count": null,
   "metadata": {},
   "outputs": [],
   "source": []
  },
  {
   "cell_type": "code",
   "execution_count": null,
   "metadata": {},
   "outputs": [],
   "source": []
  },
  {
   "cell_type": "code",
   "execution_count": null,
   "metadata": {},
   "outputs": [],
   "source": [
    "new_name"
   ]
  },
  {
   "cell_type": "code",
   "execution_count": null,
   "metadata": {},
   "outputs": [],
   "source": []
  },
  {
   "cell_type": "code",
   "execution_count": null,
   "metadata": {},
   "outputs": [],
   "source": []
  },
  {
   "cell_type": "code",
   "execution_count": null,
   "metadata": {},
   "outputs": [],
   "source": []
  }
 ],
 "metadata": {
  "kernelspec": {
   "display_name": "Python 3",
   "language": "python",
   "name": "python3"
  },
  "language_info": {
   "codemirror_mode": {
    "name": "ipython",
    "version": 3
   },
   "file_extension": ".py",
   "mimetype": "text/x-python",
   "name": "python",
   "nbconvert_exporter": "python",
   "pygments_lexer": "ipython3",
   "version": "3.7.3"
  }
 },
 "nbformat": 4,
 "nbformat_minor": 4
}
