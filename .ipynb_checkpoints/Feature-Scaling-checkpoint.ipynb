{
 "cells": [
  {
   "cell_type": "markdown",
   "metadata": {},
   "source": [
    "### 数据归一化处理"
   ]
  },
  {
   "cell_type": "code",
   "execution_count": 1,
   "metadata": {},
   "outputs": [],
   "source": [
    "import numpy as np\n",
    "import matplotlib.pyplot as plt"
   ]
  },
  {
   "cell_type": "markdown",
   "metadata": {},
   "source": [
    "### 最值归一化 Normalization"
   ]
  },
  {
   "cell_type": "code",
   "execution_count": 2,
   "metadata": {},
   "outputs": [
    {
     "data": {
      "text/plain": [
       "array([85, 12, 20, 17, 52, 60, 60, 98, 88, 68, 69, 34, 86, 35, 49, 49,  9,\n",
       "        6, 86, 18, 94, 69, 98, 66, 69, 93, 12, 35, 43, 93, 83, 73, 59, 75,\n",
       "       45, 50, 50, 51, 99, 77,  4, 69, 40, 28, 32, 25, 71, 30, 72, 87, 56,\n",
       "       60,  5,  9, 47, 19, 76, 62, 90, 12, 63,  5, 47,  8, 39, 57, 69, 89,\n",
       "       90, 56, 92, 59, 26,  5, 61, 77, 72, 25, 83, 11, 93,  9, 17, 39, 99,\n",
       "       88,  9, 78, 79, 66, 94, 33, 23, 42, 34, 39, 70, 46, 91, 62])"
      ]
     },
     "execution_count": 2,
     "metadata": {},
     "output_type": "execute_result"
    }
   ],
   "source": [
    "x = np.random.randint(0, 100, size=100)\n",
    "x"
   ]
  },
  {
   "cell_type": "code",
   "execution_count": 3,
   "metadata": {},
   "outputs": [
    {
     "data": {
      "text/plain": [
       "array([0.85263158, 0.08421053, 0.16842105, 0.13684211, 0.50526316,\n",
       "       0.58947368, 0.58947368, 0.98947368, 0.88421053, 0.67368421,\n",
       "       0.68421053, 0.31578947, 0.86315789, 0.32631579, 0.47368421,\n",
       "       0.47368421, 0.05263158, 0.02105263, 0.86315789, 0.14736842,\n",
       "       0.94736842, 0.68421053, 0.98947368, 0.65263158, 0.68421053,\n",
       "       0.93684211, 0.08421053, 0.32631579, 0.41052632, 0.93684211,\n",
       "       0.83157895, 0.72631579, 0.57894737, 0.74736842, 0.43157895,\n",
       "       0.48421053, 0.48421053, 0.49473684, 1.        , 0.76842105,\n",
       "       0.        , 0.68421053, 0.37894737, 0.25263158, 0.29473684,\n",
       "       0.22105263, 0.70526316, 0.27368421, 0.71578947, 0.87368421,\n",
       "       0.54736842, 0.58947368, 0.01052632, 0.05263158, 0.45263158,\n",
       "       0.15789474, 0.75789474, 0.61052632, 0.90526316, 0.08421053,\n",
       "       0.62105263, 0.01052632, 0.45263158, 0.04210526, 0.36842105,\n",
       "       0.55789474, 0.68421053, 0.89473684, 0.90526316, 0.54736842,\n",
       "       0.92631579, 0.57894737, 0.23157895, 0.01052632, 0.6       ,\n",
       "       0.76842105, 0.71578947, 0.22105263, 0.83157895, 0.07368421,\n",
       "       0.93684211, 0.05263158, 0.13684211, 0.36842105, 1.        ,\n",
       "       0.88421053, 0.05263158, 0.77894737, 0.78947368, 0.65263158,\n",
       "       0.94736842, 0.30526316, 0.2       , 0.4       , 0.31578947,\n",
       "       0.36842105, 0.69473684, 0.44210526, 0.91578947, 0.61052632])"
      ]
     },
     "execution_count": 3,
     "metadata": {},
     "output_type": "execute_result"
    }
   ],
   "source": [
    "(x - np.min(x)) / (np.max(x) - np.min(x))"
   ]
  },
  {
   "cell_type": "code",
   "execution_count": 4,
   "metadata": {},
   "outputs": [],
   "source": [
    "X = np.random.randint(0, 100, (50, 2))"
   ]
  },
  {
   "cell_type": "code",
   "execution_count": 5,
   "metadata": {},
   "outputs": [
    {
     "data": {
      "text/plain": [
       "array([[34, 40],\n",
       "       [71, 55],\n",
       "       [29, 40],\n",
       "       [11, 96],\n",
       "       [71, 39],\n",
       "       [79, 47],\n",
       "       [96, 14],\n",
       "       [79, 97],\n",
       "       [61, 72],\n",
       "       [ 6, 41]])"
      ]
     },
     "execution_count": 5,
     "metadata": {},
     "output_type": "execute_result"
    }
   ],
   "source": [
    "X[:10,:]"
   ]
  },
  {
   "cell_type": "code",
   "execution_count": 6,
   "metadata": {},
   "outputs": [],
   "source": [
    "X = np.array(X, dtype=float)"
   ]
  },
  {
   "cell_type": "code",
   "execution_count": 7,
   "metadata": {},
   "outputs": [
    {
     "data": {
      "text/plain": [
       "array([[34., 40.],\n",
       "       [71., 55.],\n",
       "       [29., 40.],\n",
       "       [11., 96.],\n",
       "       [71., 39.],\n",
       "       [79., 47.],\n",
       "       [96., 14.],\n",
       "       [79., 97.],\n",
       "       [61., 72.],\n",
       "       [ 6., 41.]])"
      ]
     },
     "execution_count": 7,
     "metadata": {},
     "output_type": "execute_result"
    }
   ],
   "source": [
    "X[:10,:]"
   ]
  },
  {
   "cell_type": "code",
   "execution_count": 8,
   "metadata": {},
   "outputs": [],
   "source": [
    "X[:,0] = (X[:,0] - np.min(X[:,0])) / (np.max(X[:,0]) - np.min(X[:,0]))"
   ]
  },
  {
   "cell_type": "code",
   "execution_count": 9,
   "metadata": {},
   "outputs": [],
   "source": [
    "X[:,1] = (X[:,1] - np.min(X[:,1])) / (np.max(X[:,1]) - np.min(X[:,1]))"
   ]
  },
  {
   "cell_type": "code",
   "execution_count": 10,
   "metadata": {},
   "outputs": [
    {
     "data": {
      "text/plain": [
       "array([[0.35416667, 0.39175258],\n",
       "       [0.73958333, 0.54639175],\n",
       "       [0.30208333, 0.39175258],\n",
       "       [0.11458333, 0.96907216],\n",
       "       [0.73958333, 0.3814433 ],\n",
       "       [0.82291667, 0.46391753],\n",
       "       [1.        , 0.12371134],\n",
       "       [0.82291667, 0.97938144],\n",
       "       [0.63541667, 0.72164948],\n",
       "       [0.0625    , 0.40206186]])"
      ]
     },
     "execution_count": 10,
     "metadata": {},
     "output_type": "execute_result"
    }
   ],
   "source": [
    "X[:10, :]"
   ]
  },
  {
   "cell_type": "code",
   "execution_count": 11,
   "metadata": {},
   "outputs": [
    {
     "data": {
      "text/plain": [
       "<matplotlib.collections.PathCollection at 0x25030b9eb38>"
      ]
     },
     "execution_count": 11,
     "metadata": {},
     "output_type": "execute_result"
    },
    {
     "data": {
      "image/png": "[encoded data removed]",
      "text/plain": [
       "<Figure size 432x288 with 1 Axes>"
      ]
     },
     "metadata": {
      "needs_background": "light"
     },
     "output_type": "display_data"
    }
   ],
   "source": [
    "plt.scatter(X[:,0], X[:, 1])"
   ]
  },
  {
   "cell_type": "code",
   "execution_count": 12,
   "metadata": {},
   "outputs": [
    {
     "data": {
      "text/plain": [
       "0.5474999999999999"
      ]
     },
     "execution_count": 12,
     "metadata": {},
     "output_type": "execute_result"
    }
   ],
   "source": [
    "np.mean(X[:, 0])"
   ]
  },
  {
   "cell_type": "code",
   "execution_count": 13,
   "metadata": {},
   "outputs": [
    {
     "data": {
      "text/plain": [
       "0.3053356531935161"
      ]
     },
     "execution_count": 13,
     "metadata": {},
     "output_type": "execute_result"
    }
   ],
   "source": [
    "np.std(X[:, 0])"
   ]
  },
  {
   "cell_type": "code",
   "execution_count": 14,
   "metadata": {},
   "outputs": [
    {
     "data": {
      "text/plain": [
       "0.46659793814432987"
      ]
     },
     "execution_count": 14,
     "metadata": {},
     "output_type": "execute_result"
    }
   ],
   "source": [
    "np.mean(X[:, 1])"
   ]
  },
  {
   "cell_type": "code",
   "execution_count": 15,
   "metadata": {},
   "outputs": [
    {
     "data": {
      "text/plain": [
       "0.312647015051849"
      ]
     },
     "execution_count": 15,
     "metadata": {},
     "output_type": "execute_result"
    }
   ],
   "source": [
    "np.std(X[:, 1])"
   ]
  },
  {
   "cell_type": "markdown",
   "metadata": {},
   "source": [
    "### 均值方差归一化 Standardization"
   ]
  },
  {
   "cell_type": "code",
   "execution_count": 16,
   "metadata": {},
   "outputs": [],
   "source": [
    "X2 = np.random.randint(0, 100, (50, 2))"
   ]
  },
  {
   "cell_type": "code",
   "execution_count": 18,
   "metadata": {},
   "outputs": [
    {
     "data": {
      "text/plain": [
       "array([[74., 82.],\n",
       "       [58., 89.],\n",
       "       [74., 72.],\n",
       "       [98., 34.],\n",
       "       [84., 82.],\n",
       "       [61.,  8.],\n",
       "       [29.,  3.],\n",
       "       [94., 94.],\n",
       "       [84., 86.],\n",
       "       [57., 91.],\n",
       "       [10., 39.],\n",
       "       [23., 35.],\n",
       "       [40.,  9.],\n",
       "       [56., 97.],\n",
       "       [85., 71.],\n",
       "       [22., 60.],\n",
       "       [40., 72.],\n",
       "       [55., 59.],\n",
       "       [27., 25.],\n",
       "       [ 6., 23.],\n",
       "       [80., 70.],\n",
       "       [95., 70.],\n",
       "       [71., 61.],\n",
       "       [72., 31.],\n",
       "       [90., 80.],\n",
       "       [44., 45.],\n",
       "       [53.,  6.],\n",
       "       [96., 19.],\n",
       "       [96., 53.],\n",
       "       [32., 56.],\n",
       "       [91., 58.],\n",
       "       [47., 49.],\n",
       "       [71.,  4.],\n",
       "       [23., 23.],\n",
       "       [85., 79.],\n",
       "       [72., 32.],\n",
       "       [79., 91.],\n",
       "       [ 0., 66.],\n",
       "       [74., 99.],\n",
       "       [67., 79.],\n",
       "       [92., 45.],\n",
       "       [44., 89.],\n",
       "       [ 4., 18.],\n",
       "       [47., 59.],\n",
       "       [37., 91.],\n",
       "       [99., 43.],\n",
       "       [32., 90.],\n",
       "       [ 9., 53.],\n",
       "       [84., 82.],\n",
       "       [91., 86.]])"
      ]
     },
     "execution_count": 18,
     "metadata": {},
     "output_type": "execute_result"
    }
   ],
   "source": [
    "X2 = np.array(X2, dtype=float)\n",
    "X2"
   ]
  },
  {
   "cell_type": "code",
   "execution_count": null,
   "metadata": {},
   "outputs": [],
   "source": [
    "X2[:, 0] = (X2[:, 0] - np.mean(X2[:, 0])) / np.std(X2[:,0])"
   ]
  },
  {
   "cell_type": "code",
   "execution_count": null,
   "metadata": {},
   "outputs": [],
   "source": []
  },
  {
   "cell_type": "code",
   "execution_count": null,
   "metadata": {},
   "outputs": [],
   "source": []
  },
  {
   "cell_type": "code",
   "execution_count": null,
   "metadata": {},
   "outputs": [],
   "source": []
  }
 ],
 "metadata": {
  "kernelspec": {
   "display_name": "Python 3",
   "language": "python",
   "name": "python3"
  },
  "language_info": {
   "codemirror_mode": {
    "name": "ipython",
    "version": 3
   },
   "file_extension": ".py",
   "mimetype": "text/x-python",
   "name": "python",
   "nbconvert_exporter": "python",
   "pygments_lexer": "ipython3",
   "version": "3.6.5"
  }
 },
 "nbformat": 4,
 "nbformat_minor": 2
}
