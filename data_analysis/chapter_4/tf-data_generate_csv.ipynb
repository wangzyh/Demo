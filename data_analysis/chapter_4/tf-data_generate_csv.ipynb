{
 "cells": [
  {
   "cell_type": "code",
   "execution_count": 1,
   "metadata": {},
   "outputs": [
    {
     "name": "stdout",
     "output_type": "stream",
     "text": [
      "2.5.0\n",
      "sys.version_info(major=3, minor=6, micro=9, releaselevel='final', serial=0)\n",
      "matplotlib 3.3.3\n",
      "numpy 1.19.4\n",
      "pandas 1.1.4\n",
      "sklearn 0.23.2\n",
      "tensorflow 2.5.0\n",
      "tensorflow.keras 2.5.0\n"
     ]
    }
   ],
   "source": [
    "import matplotlib as mpl\n",
    "import matplotlib.pyplot as plt\n",
    "%matplotlib inline\n",
    "import numpy as np\n",
    "import sklearn\n",
    "import pandas as pd\n",
    "import os\n",
    "import sys\n",
    "import time\n",
    "import tensorflow as tf\n",
    "\n",
    "from tensorflow import keras\n",
    "\n",
    "print(tf.__version__)\n",
    "print(sys.version_info)\n",
    "for module in mpl, np, pd, sklearn, tf, keras:\n",
    "    print(module.__name__, module.__version__)"
   ]
  },
  {
   "cell_type": "code",
   "execution_count": 2,
   "metadata": {},
   "outputs": [],
   "source": [
    "from sklearn.datasets import fetch_california_housing\n",
    "\n",
    "housing = fetch_california_housing()"
   ]
  },
  {
   "cell_type": "code",
   "execution_count": 3,
   "metadata": {},
   "outputs": [
    {
     "name": "stdout",
     "output_type": "stream",
     "text": [
      "(11610, 8) (11610,)\n",
      "(3870, 8) (3870,)\n",
      "(5160, 8) (5160,)\n"
     ]
    }
   ],
   "source": [
    "from sklearn.model_selection import train_test_split\n",
    "\n",
    "x_train_all, x_test, y_train_all, y_test = train_test_split(\n",
    "    housing.data, housing.target, random_state = 7)\n",
    "x_train, x_valid, y_train, y_valid = train_test_split(\n",
    "    x_train_all, y_train_all, random_state = 7)\n",
    "print(x_train.shape, y_train.shape)\n",
    "print(x_valid.shape, y_valid.shape)\n",
    "print(x_test.shape, y_test.shape)"
   ]
  },
  {
   "cell_type": "code",
   "execution_count": 4,
   "metadata": {},
   "outputs": [],
   "source": [
    "from sklearn.preprocessing import StandardScaler\n",
    "\n",
    "scaler = StandardScaler()\n",
    "x_train_scaled = scaler.fit_transform(x_train)\n",
    "x_valid_scaled = scaler.fit_transform(x_valid)\n",
    "x_test_scaled = scaler.fit_transform(x_test)"
   ]
  },
  {
   "cell_type": "code",
   "execution_count": 5,
   "metadata": {},
   "outputs": [],
   "source": [
    "output_dir = 'generate_csv'\n",
    "if not os.path.exists(output_dir):\n",
    "    os.mkdir(output_dir)\n",
    "    \n",
    "def save_2_csv(output_dir, data, name_prefix, header=None, n_parts=10):\n",
    "    path_format = os.path.join(output_dir, '{}__{:02d}.csv')\n",
    "    filenames = []\n",
    "    \n",
    "    for file_idx, row_indices in enumerate(\n",
    "        np.array_split(np.arange(len(data)), n_parts)):\n",
    "        part_csv = path_format.format(name_prefix, file_idx)\n",
    "        filenames.append(part_csv)\n",
    "        with open(part_csv, 'wt', encoding='utf-8') as f:\n",
    "            if header:\n",
    "                f.write(header+'\\n')\n",
    "            for row_indice in row_indices:\n",
    "                f.write(','.join([repr(col) for col in data[row_indice]]))\n",
    "                f.write('\\n')\n",
    "    \n",
    "    return filenames\n",
    "    \n",
    "\n",
    "train_data = np.c_[x_train_scaled, y_train]\n",
    "valid_data = np.c_[x_valid_scaled, y_valid]\n",
    "test_data = np.c_[x_test_scaled, y_test]\n",
    "header_cols = housing.feature_names + ['MidianHouseValue']\n",
    "header_str = ','.join(header_cols)\n",
    "\n",
    "train_filenames = save_2_csv(output_dir, train_data, 'train', header_str, n_parts=20)\n",
    "valid_filenames = save_2_csv(output_dir, valid_data, 'valid', header_str, n_parts=10)\n",
    "test_filenames = save_2_csv(output_dir, test_data, 'test', header_str, n_parts=10)"
   ]
  },
  {
   "cell_type": "code",
   "execution_count": 6,
   "metadata": {},
   "outputs": [
    {
     "name": "stdout",
     "output_type": "stream",
     "text": [
      "train filenames\n",
      "['generate_csv/train__00.csv',\n",
      " 'generate_csv/train__01.csv',\n",
      " 'generate_csv/train__02.csv',\n",
      " 'generate_csv/train__03.csv',\n",
      " 'generate_csv/train__04.csv',\n",
      " 'generate_csv/train__05.csv',\n",
      " 'generate_csv/train__06.csv',\n",
      " 'generate_csv/train__07.csv',\n",
      " 'generate_csv/train__08.csv',\n",
      " 'generate_csv/train__09.csv',\n",
      " 'generate_csv/train__10.csv',\n",
      " 'generate_csv/train__11.csv',\n",
      " 'generate_csv/train__12.csv',\n",
      " 'generate_csv/train__13.csv',\n",
      " 'generate_csv/train__14.csv',\n",
      " 'generate_csv/train__15.csv',\n",
      " 'generate_csv/train__16.csv',\n",
      " 'generate_csv/train__17.csv',\n",
      " 'generate_csv/train__18.csv',\n",
      " 'generate_csv/train__19.csv']\n",
      "valid filenames\n",
      "['generate_csv/valid__00.csv',\n",
      " 'generate_csv/valid__01.csv',\n",
      " 'generate_csv/valid__02.csv',\n",
      " 'generate_csv/valid__03.csv',\n",
      " 'generate_csv/valid__04.csv',\n",
      " 'generate_csv/valid__05.csv',\n",
      " 'generate_csv/valid__06.csv',\n",
      " 'generate_csv/valid__07.csv',\n",
      " 'generate_csv/valid__08.csv',\n",
      " 'generate_csv/valid__09.csv']\n",
      "test filenames\n",
      "['generate_csv/test__00.csv',\n",
      " 'generate_csv/test__01.csv',\n",
      " 'generate_csv/test__02.csv',\n",
      " 'generate_csv/test__03.csv',\n",
      " 'generate_csv/test__04.csv',\n",
      " 'generate_csv/test__05.csv',\n",
      " 'generate_csv/test__06.csv',\n",
      " 'generate_csv/test__07.csv',\n",
      " 'generate_csv/test__08.csv',\n",
      " 'generate_csv/test__09.csv']\n"
     ]
    }
   ],
   "source": [
    "import pprint\n",
    "print('train filenames')\n",
    "pprint.pprint(train_filenames)\n",
    "print('valid filenames')\n",
    "pprint.pprint(valid_filenames)\n",
    "print('test filenames')\n",
    "pprint.pprint(test_filenames)"
   ]
  },
  {
   "cell_type": "code",
   "execution_count": 7,
   "metadata": {},
   "outputs": [
    {
     "name": "stdout",
     "output_type": "stream",
     "text": [
      "tf.Tensor(b'generate_csv/train__03.csv', shape=(), dtype=string)\n",
      "tf.Tensor(b'generate_csv/train__12.csv', shape=(), dtype=string)\n",
      "tf.Tensor(b'generate_csv/train__11.csv', shape=(), dtype=string)\n",
      "tf.Tensor(b'generate_csv/train__17.csv', shape=(), dtype=string)\n",
      "tf.Tensor(b'generate_csv/train__00.csv', shape=(), dtype=string)\n",
      "tf.Tensor(b'generate_csv/train__14.csv', shape=(), dtype=string)\n",
      "tf.Tensor(b'generate_csv/train__16.csv', shape=(), dtype=string)\n",
      "tf.Tensor(b'generate_csv/train__09.csv', shape=(), dtype=string)\n",
      "tf.Tensor(b'generate_csv/train__01.csv', shape=(), dtype=string)\n",
      "tf.Tensor(b'generate_csv/train__06.csv', shape=(), dtype=string)\n",
      "tf.Tensor(b'generate_csv/train__15.csv', shape=(), dtype=string)\n",
      "tf.Tensor(b'generate_csv/train__02.csv', shape=(), dtype=string)\n",
      "tf.Tensor(b'generate_csv/train__07.csv', shape=(), dtype=string)\n",
      "tf.Tensor(b'generate_csv/train__04.csv', shape=(), dtype=string)\n",
      "tf.Tensor(b'generate_csv/train__08.csv', shape=(), dtype=string)\n",
      "tf.Tensor(b'generate_csv/train__18.csv', shape=(), dtype=string)\n",
      "tf.Tensor(b'generate_csv/train__05.csv', shape=(), dtype=string)\n",
      "tf.Tensor(b'generate_csv/train__10.csv', shape=(), dtype=string)\n",
      "tf.Tensor(b'generate_csv/train__19.csv', shape=(), dtype=string)\n",
      "tf.Tensor(b'generate_csv/train__13.csv', shape=(), dtype=string)\n"
     ]
    }
   ],
   "source": [
    "# 1.filename -> dataset\n",
    "# 2.read file -> dataset -> datasets -> merge\n",
    "# 3.parse csv\n",
    "\n",
    "filename_dataset = tf.data.Dataset.list_files(train_filenames)\n",
    "for filename in filename_dataset:\n",
    "    print(filename)"
   ]
  },
  {
   "cell_type": "code",
   "execution_count": 8,
   "metadata": {},
   "outputs": [
    {
     "name": "stdout",
     "output_type": "stream",
     "text": [
      "b'-0.8326912290523859,-0.21322024649939578,0.19590484389231774,0.28256634342161385,0.30623724325012375,-0.06698661284884411,-0.1770926678271232,-0.5473521892916272,2.47'\n",
      "b'0.5765711979456258,0.5845005133156296,-0.04645721372063711,-0.24013502085107374,-0.5646393649122108,-0.020557273966137928,-0.6545863987313087,0.5646945919829217,2.171'\n",
      "b'-1.616784570539642,-0.4525364744439034,-0.029148908629641944,0.08771590095596313,-0.3178629179184352,0.023730595404004955,1.0072790372587457,-1.3452332879639521,1.125'\n",
      "b'-0.34681893647975504,-0.6120806264069084,-0.2993192081256999,0.04803324388614384,0.04851167062181197,-0.08686994126075745,-0.8184322867866667,0.7641648666509977,1.807'\n",
      "b'-0.45521966900167576,-0.2929923224808983,-0.3987316967655819,0.048342385355644925,0.8612736888777626,-0.03406098870043033,-0.6873555763423803,0.5996018900498323,2.042'\n",
      "b'2.514875755358087,-0.6120806264069084,0.9274771622665903,-0.18491981184094955,-0.09130024132688004,0.06473156953538023,-0.8605640865723282,0.7691516235177022,3.867'\n",
      "b'-0.9438958848655032,0.504728437334127,-0.45384645874151425,-0.08116500310676156,0.66671614875639,-0.0032468852172111624,-0.7669378648264085,0.5597078351162171,3.325'\n",
      "b'0.10783987039842316,1.86085372901967,-0.4610059208578616,-0.1048053392740448,-0.47199291723536674,-0.16016383651722424,0.979191170734969,-1.4150478840977805,3.556'\n",
      "b'-0.17408668089943727,1.1429050451861473,-0.28727118870501034,0.22734597823192812,0.05524959408921882,-0.1643195612115563,0.9604659263857858,-1.4399816684312892,4.0'\n",
      "b'-0.26910264752187235,0.7440446652786346,-0.32686955387040534,-0.13957064331225846,-0.3801887099919485,0.0013605451901388182,-0.8699267087469216,0.6594429724502586,1.777'\n",
      "b'-0.8089901416098185,1.0631329692046447,0.005831284425777589,-0.06735244343007374,-0.2925957049156595,0.038509961964624105,0.6140489059258866,-0.47753759315779887,0.744'\n",
      "b'-1.1344568602407883,-1.010941006314421,-0.21354900798752324,-0.1326136685947886,-0.6993978342603477,-0.07565388191201547,0.9838724818222641,-0.6371138128922667,1.133'\n",
      "b'-0.731644182143226,-0.21322024649939578,0.15980008861372508,0.028201035079377653,-0.5637971244787849,-0.04452025977343008,2.2103759866937978,-0.4127097538906751,0.856'\n",
      "b'-1.049439789883186,0.9035888172416396,-0.47732880819119344,-0.05428230687307981,-0.38861111432620704,0.08197081200520384,-0.7341686872153369,0.6843767567837673,1.5'\n",
      "b'1.5251437377787345,-0.05367609453639072,0.7812516902583831,-0.19689529591433746,-0.4214584912298154,0.0027580329308190734,-0.6499050876440104,0.5248005370492994,3.482'\n"
     ]
    }
   ],
   "source": [
    "n_readers = 5\n",
    "dataset = filename_dataset.interleave(\n",
    "    lambda filename: tf.data.TextLineDataset(filename).skip(1),\n",
    "    cycle_length = n_readers\n",
    ")\n",
    "for line in dataset.take(15):\n",
    "    print(line.numpy())"
   ]
  },
  {
   "cell_type": "code",
   "execution_count": 9,
   "metadata": {},
   "outputs": [
    {
     "name": "stdout",
     "output_type": "stream",
     "text": [
      "[<tf.Tensor: shape=(), dtype=int32, numpy=1>, <tf.Tensor: shape=(), dtype=int32, numpy=2>, <tf.Tensor: shape=(), dtype=int32, numpy=3>, <tf.Tensor: shape=(), dtype=int32, numpy=4>, <tf.Tensor: shape=(), dtype=int32, numpy=5>]\n"
     ]
    }
   ],
   "source": [
    "# tf.io.decode_csv(str, record_defaults)\n",
    "\n",
    "sample_str = '1,2,3,4,5'\n",
    "record_deafults = [tf.constant(0, dtype=tf.int32)] * 5\n",
    "parsed_fields = tf.io.decode_csv(sample_str, record_deafults)\n",
    "print(parsed_fields)"
   ]
  },
  {
   "cell_type": "code",
   "execution_count": 10,
   "metadata": {},
   "outputs": [
    {
     "name": "stdout",
     "output_type": "stream",
     "text": [
      "[<tf.Tensor: shape=(), dtype=int32, numpy=1>, <tf.Tensor: shape=(), dtype=int32, numpy=2>, <tf.Tensor: shape=(), dtype=float32, numpy=3.0>, <tf.Tensor: shape=(), dtype=string, numpy=b'4'>, <tf.Tensor: shape=(), dtype=float32, numpy=5.0>]\n"
     ]
    }
   ],
   "source": [
    "# tf.io.decode_csv(str, record_defaults)\n",
    "\n",
    "sample_str = '1,2,3,4,5'\n",
    "record_defaults = [tf.constant(0, dtype=tf.int32),\n",
    "                  0,\n",
    "                  np.nan,\n",
    "                  'hello',\n",
    "                  tf.constant([])]\n",
    "parsed_fields = tf.io.decode_csv(sample_str, record_defaults)\n",
    "print(parsed_fields)"
   ]
  },
  {
   "cell_type": "code",
   "execution_count": 11,
   "metadata": {},
   "outputs": [
    {
     "name": "stdout",
     "output_type": "stream",
     "text": [
      "Field 4 is required but missing in record 0! [Op:DecodeCSV]\n"
     ]
    }
   ],
   "source": [
    "try:\n",
    "    parsed_fields = tf.io.decode_csv(',,,,', record_defaults)\n",
    "except tf.errors.InvalidArgumentError as ex:\n",
    "    print(ex)"
   ]
  },
  {
   "cell_type": "code",
   "execution_count": 12,
   "metadata": {},
   "outputs": [
    {
     "name": "stdout",
     "output_type": "stream",
     "text": [
      "Expect 5 fields but have 7 in record 0 [Op:DecodeCSV]\n"
     ]
    }
   ],
   "source": [
    "try:\n",
    "    parsed_fields = tf.io.decode_csv('1,2,3,4,5,6,7', record_defaults)\n",
    "except tf.errors.InvalidArgumentError as ex:\n",
    "    print(ex)"
   ]
  },
  {
   "cell_type": "code",
   "execution_count": 13,
   "metadata": {},
   "outputs": [
    {
     "data": {
      "text/plain": [
       "(<tf.Tensor: shape=(8,), dtype=float32, numpy=\n",
       " array([-0.33025992,  0.90358883, -0.12848271, -0.02890978, -0.53937215,\n",
       "         0.0052674 , -0.7856631 ,  0.6345092 ], dtype=float32)>,\n",
       " <tf.Tensor: shape=(1,), dtype=float32, numpy=array([1.043], dtype=float32)>)"
      ]
     },
     "execution_count": 13,
     "metadata": {},
     "output_type": "execute_result"
    }
   ],
   "source": [
    "def parse_csv_line(line, n_fields=9):\n",
    "    defs = [tf.constant(np.nan)] * n_fields\n",
    "    parsed_fields = tf.io.decode_csv(line, record_defaults=defs)\n",
    "    x = tf.stack(parsed_fields[0:-1])\n",
    "    y = tf.stack(parsed_fields[-1:])\n",
    "    return x, y\n",
    "\n",
    "parse_csv_line(b'-0.33025991779778285,0.9035888172416396,-0.12848270939697026,-0.028909780108422635,-0.5393721519094352,0.005267396738674212,-0.7856631091755951,0.6345091881167501,1.043',\n",
    "              n_fields=9)"
   ]
  },
  {
   "cell_type": "code",
   "execution_count": 14,
   "metadata": {},
   "outputs": [
    {
     "name": "stdout",
     "output_type": "stream",
     "text": [
      "x:\n",
      "<tf.Tensor: shape=(3, 8), dtype=float32, numpy=\n",
      "array([[-1.2510048 ,  1.3024492 , -1.3111452 ,  0.00781415, -0.21847855,\n",
      "         0.08010878, -0.74821264,  0.65944296],\n",
      "       [-0.72751766,  1.142905  , -0.4262565 , -0.07966067,  0.06619872,\n",
      "        -0.10571232, -0.7013995 ,  0.61456215],\n",
      "       [-0.7766657 , -0.13344817, -0.06437794, -0.14419238, -0.64970565,\n",
      "        -0.01160897,  0.9042902 , -0.5473522 ]], dtype=float32)>\n",
      "y:\n",
      "<tf.Tensor: shape=(3, 1), dtype=float32, numpy=\n",
      "array([[1.875],\n",
      "       [2.743],\n",
      "       [0.818]], dtype=float32)>\n",
      "x:\n",
      "<tf.Tensor: shape=(3, 8), dtype=float32, numpy=\n",
      "array([[-0.83269125, -0.21322025,  0.19590485,  0.28256634,  0.30623725,\n",
      "        -0.06698661, -0.17709267, -0.5473522 ],\n",
      "       [-1.0163747 ,  1.8608537 , -0.8985311 , -0.05306474, -0.8097313 ,\n",
      "         0.23997213, -0.76693785,  0.6544562 ],\n",
      "       [ 1.4685363 ,  1.8608537 ,  0.05410383, -0.4459113 , -0.6581281 ,\n",
      "         0.03778752,  0.78725743, -1.1357895 ]], dtype=float32)>\n",
      "y:\n",
      "<tf.Tensor: shape=(3, 1), dtype=float32, numpy=\n",
      "array([[2.47 ],\n",
      "       [0.388],\n",
      "       [3.09 ]], dtype=float32)>\n"
     ]
    }
   ],
   "source": [
    "# 1.filename -> dataset\n",
    "# 2.read file -> dataset -> datasets -> merge\n",
    "# 3.parse csv\n",
    "\n",
    "\n",
    "def csv_reader_dataset(filenames, n_readers=5, batch_size=32, n_parse_threads=5, shuffle_buffer_size=10000):\n",
    "    dataset = tf.data.Dataset.list_files(filenames)\n",
    "    dataset = dataset.repeat()\n",
    "    dataset = dataset.interleave(\n",
    "        lambda filename: tf.data.TextLineDataset(filename).skip(1),\n",
    "        cycle_length = n_readers\n",
    "    )\n",
    "    dataset.shuffle(shuffle_buffer_size)\n",
    "    dataset = dataset.map(parse_csv_line, num_parallel_calls=n_parse_threads)\n",
    "    dataset = dataset.batch(batch_size)\n",
    "    return dataset\n",
    "\n",
    "train_set = csv_reader_dataset(train_filenames, batch_size=3)\n",
    "for x_batch, y_batch in train_set.take(2):\n",
    "    print('x:')\n",
    "    pprint.pprint(x_batch)\n",
    "    print('y:')\n",
    "    pprint.pprint(y_batch)"
   ]
  },
  {
   "cell_type": "code",
   "execution_count": 15,
   "metadata": {},
   "outputs": [],
   "source": [
    "batch_size = 32\n",
    "train_set = csv_reader_dataset(train_filenames, batch_size=batch_size)\n",
    "valid_set = csv_reader_dataset(train_filenames, batch_size=batch_size)\n",
    "test_set = csv_reader_dataset(train_filenames, batch_size=batch_size)\n"
   ]
  },
  {
   "cell_type": "code",
   "execution_count": 19,
   "metadata": {},
   "outputs": [
    {
     "name": "stdout",
     "output_type": "stream",
     "text": [
      "Epoch 1/100\n",
      "348/348 [==============================] - 1s 3ms/step - loss: 1.5668 - val_loss: 9.3680\n",
      "Epoch 2/100\n",
      "348/348 [==============================] - 1s 3ms/step - loss: 0.8277 - val_loss: 2.5354\n",
      "Epoch 3/100\n",
      "348/348 [==============================] - 1s 3ms/step - loss: 1.3442 - val_loss: 0.4759\n",
      "Epoch 4/100\n",
      "348/348 [==============================] - 1s 3ms/step - loss: 0.4697 - val_loss: 0.4221\n",
      "Epoch 5/100\n",
      "348/348 [==============================] - 1s 3ms/step - loss: 0.4383 - val_loss: 0.4136\n",
      "Epoch 6/100\n",
      "348/348 [==============================] - 1s 3ms/step - loss: 0.4151 - val_loss: 0.3863\n",
      "Epoch 7/100\n",
      "348/348 [==============================] - 1s 3ms/step - loss: 0.4048 - val_loss: 0.3828\n",
      "Epoch 8/100\n",
      "348/348 [==============================] - 1s 3ms/step - loss: 0.3859 - val_loss: 0.3803\n",
      "Epoch 9/100\n",
      "348/348 [==============================] - 1s 3ms/step - loss: 0.3831 - val_loss: 0.3853\n",
      "Epoch 10/100\n",
      "348/348 [==============================] - 1s 3ms/step - loss: 0.3688 - val_loss: 0.3654\n",
      "Epoch 11/100\n",
      "348/348 [==============================] - 1s 3ms/step - loss: 0.3693 - val_loss: 0.3457\n",
      "Epoch 12/100\n",
      "348/348 [==============================] - 1s 3ms/step - loss: 0.3641 - val_loss: 0.3541\n",
      "Epoch 13/100\n",
      "348/348 [==============================] - 1s 3ms/step - loss: 0.3600 - val_loss: 0.3471\n",
      "Epoch 14/100\n",
      "348/348 [==============================] - 1s 3ms/step - loss: 0.3760 - val_loss: 0.3505\n",
      "Epoch 15/100\n",
      "348/348 [==============================] - 1s 3ms/step - loss: 0.3416 - val_loss: 0.3742\n",
      "Epoch 16/100\n",
      "348/348 [==============================] - 1s 3ms/step - loss: 0.3356 - val_loss: 0.3329\n",
      "Epoch 17/100\n",
      "348/348 [==============================] - 1s 3ms/step - loss: 0.3522 - val_loss: 0.3612\n",
      "Epoch 18/100\n",
      "348/348 [==============================] - 1s 3ms/step - loss: 0.3545 - val_loss: 0.3323\n",
      "Epoch 19/100\n",
      "348/348 [==============================] - 1s 3ms/step - loss: 0.3381 - val_loss: 0.3430\n",
      "Epoch 20/100\n",
      "348/348 [==============================] - 1s 3ms/step - loss: 0.3390 - val_loss: 0.3280\n",
      "Epoch 21/100\n",
      "348/348 [==============================] - 1s 3ms/step - loss: 0.3733 - val_loss: 0.3320\n"
     ]
    }
   ],
   "source": [
    "model = keras.models.Sequential([\n",
    "    keras.layers.Dense(30, activation='relu',input_shape=[8]),\n",
    "    keras.layers.Dense(1),\n",
    "]) \n",
    "model.compile(loss='mean_squared_error', optimizer = 'sgd')\n",
    "callbacks = [keras.callbacks.EarlyStopping(patience=5, min_delta=1e-2)]\n",
    "\n",
    "history = model.fit(train_set, \n",
    "                    validation_data = valid_set, \n",
    "                    steps_per_epoch = 11160 // batch_size,\n",
    "                    validation_steps = 3870 // batch_size,\n",
    "                    epochs=100, \n",
    "                    callbacks=callbacks)"
   ]
  },
  {
   "cell_type": "code",
   "execution_count": 20,
   "metadata": {},
   "outputs": [
    {
     "name": "stdout",
     "output_type": "stream",
     "text": [
      "161/161 [==============================] - 0s 2ms/step - loss: 0.3489\n"
     ]
    },
    {
     "data": {
      "text/plain": [
       "0.3488520383834839"
      ]
     },
     "execution_count": 20,
     "metadata": {},
     "output_type": "execute_result"
    }
   ],
   "source": [
    "model.evaluate(test_set, steps=5160 // batch_size)"
   ]
  },
  {
   "cell_type": "code",
   "execution_count": null,
   "metadata": {},
   "outputs": [],
   "source": []
  }
 ],
 "metadata": {
  "kernelspec": {
   "display_name": "Python 3",
   "language": "python",
   "name": "python3"
  },
  "language_info": {
   "codemirror_mode": {
    "name": "ipython",
    "version": 3
   },
   "file_extension": ".py",
   "mimetype": "text/x-python",
   "name": "python",
   "nbconvert_exporter": "python",
   "pygments_lexer": "ipython3",
   "version": "3.6.9"
  }
 },
 "nbformat": 4,
 "nbformat_minor": 4
}
