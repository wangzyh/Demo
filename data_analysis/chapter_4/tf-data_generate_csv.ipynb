{
 "cells": [
  {
   "cell_type": "code",
   "execution_count": 1,
   "metadata": {},
   "outputs": [
    {
     "name": "stdout",
     "output_type": "stream",
     "text": [
      "2.5.0\n",
      "sys.version_info(major=3, minor=6, micro=9, releaselevel='final', serial=0)\n",
      "matplotlib 3.3.3\n",
      "numpy 1.19.4\n",
      "pandas 1.1.4\n",
      "sklearn 0.23.2\n",
      "tensorflow 2.5.0\n",
      "tensorflow.keras 2.5.0\n"
     ]
    }
   ],
   "source": [
    "import matplotlib as mpl\n",
    "import matplotlib.pyplot as plt\n",
    "%matplotlib inline\n",
    "import numpy as np\n",
    "import sklearn\n",
    "import pandas as pd\n",
    "import os\n",
    "import sys\n",
    "import time\n",
    "import tensorflow as tf\n",
    "\n",
    "from tensorflow import keras\n",
    "\n",
    "print(tf.__version__)\n",
    "print(sys.version_info)\n",
    "for module in mpl, np, pd, sklearn, tf, keras:\n",
    "    print(module.__name__, module.__version__)"
   ]
  },
  {
   "cell_type": "code",
   "execution_count": 2,
   "metadata": {},
   "outputs": [],
   "source": [
    "from sklearn.datasets import fetch_california_housing\n",
    "\n",
    "housing = fetch_california_housing()"
   ]
  },
  {
   "cell_type": "code",
   "execution_count": 3,
   "metadata": {},
   "outputs": [
    {
     "name": "stdout",
     "output_type": "stream",
     "text": [
      "(11610, 8) (11610,)\n",
      "(3870, 8) (3870,)\n",
      "(5160, 8) (5160,)\n"
     ]
    }
   ],
   "source": [
    "from sklearn.model_selection import train_test_split\n",
    "\n",
    "x_train_all, x_test, y_train_all, y_test = train_test_split(\n",
    "    housing.data, housing.target, random_state = 7)\n",
    "x_train, x_valid, y_train, y_valid = train_test_split(\n",
    "    x_train_all, y_train_all, random_state = 7)\n",
    "print(x_train.shape, y_train.shape)\n",
    "print(x_valid.shape, y_valid.shape)\n",
    "print(x_test.shape, y_test.shape)"
   ]
  },
  {
   "cell_type": "code",
   "execution_count": 4,
   "metadata": {},
   "outputs": [],
   "source": [
    "from sklearn.preprocessing import StandardScaler\n",
    "\n",
    "scaler = StandardScaler()\n",
    "x_train_scaled = scaler.fit_transform(x_train)\n",
    "x_valid_scaled = scaler.fit_transform(x_valid)\n",
    "x_test_scaled = scaler.fit_transform(x_test)"
   ]
  },
  {
   "cell_type": "code",
   "execution_count": 5,
   "metadata": {},
   "outputs": [],
   "source": [
    "output_dir = 'generate_csv'\n",
    "if not os.path.exists(output_dir):\n",
    "    os.mkdir(output_dir)\n",
    "    \n",
    "def save_2_csv(output_dir, data, name_prefix, header=None, n_parts=10):\n",
    "    path_format = os.path.join(output_dir, '{}__{:02d}.csv')\n",
    "    filenames = []\n",
    "    \n",
    "    for file_idx, row_indices in enumerate(\n",
    "        np.array_split(np.arange(len(data)), n_parts)):\n",
    "        part_csv = path_format.format(name_prefix, file_idx)\n",
    "        filenames.append(part_csv)\n",
    "        with open(part_csv, 'wt', encoding='utf-8') as f:\n",
    "            if header:\n",
    "                f.write(header+'\\n')\n",
    "            for row_indice in row_indices:\n",
    "                f.write(','.join([repr(col) for col in data[row_indice]]))\n",
    "                f.write('\\n')\n",
    "    \n",
    "    return filenames\n",
    "    \n",
    "\n",
    "train_data = np.c_[x_train_scaled, y_train]\n",
    "valid_data = np.c_[x_valid_scaled, y_valid]\n",
    "test_data = np.c_[x_test_scaled, y_test]\n",
    "header_cols = housing.feature_names + ['MidianHouseValue']\n",
    "header_str = ','.join(header_cols)\n",
    "\n",
    "train_filenames = save_2_csv(output_dir, train_data, 'train', header_str, n_parts=20)\n",
    "valid_filenames = save_2_csv(output_dir, valid_data, 'valid', header_str, n_parts=10)\n",
    "test_filenames = save_2_csv(output_dir, test_data, 'test', header_str, n_parts=10)"
   ]
  },
  {
   "cell_type": "code",
   "execution_count": 6,
   "metadata": {},
   "outputs": [
    {
     "name": "stdout",
     "output_type": "stream",
     "text": [
      "train filenames\n",
      "['generate_csv/train__00.csv',\n",
      " 'generate_csv/train__01.csv',\n",
      " 'generate_csv/train__02.csv',\n",
      " 'generate_csv/train__03.csv',\n",
      " 'generate_csv/train__04.csv',\n",
      " 'generate_csv/train__05.csv',\n",
      " 'generate_csv/train__06.csv',\n",
      " 'generate_csv/train__07.csv',\n",
      " 'generate_csv/train__08.csv',\n",
      " 'generate_csv/train__09.csv',\n",
      " 'generate_csv/train__10.csv',\n",
      " 'generate_csv/train__11.csv',\n",
      " 'generate_csv/train__12.csv',\n",
      " 'generate_csv/train__13.csv',\n",
      " 'generate_csv/train__14.csv',\n",
      " 'generate_csv/train__15.csv',\n",
      " 'generate_csv/train__16.csv',\n",
      " 'generate_csv/train__17.csv',\n",
      " 'generate_csv/train__18.csv',\n",
      " 'generate_csv/train__19.csv']\n",
      "valid filenames\n",
      "['generate_csv/valid__00.csv',\n",
      " 'generate_csv/valid__01.csv',\n",
      " 'generate_csv/valid__02.csv',\n",
      " 'generate_csv/valid__03.csv',\n",
      " 'generate_csv/valid__04.csv',\n",
      " 'generate_csv/valid__05.csv',\n",
      " 'generate_csv/valid__06.csv',\n",
      " 'generate_csv/valid__07.csv',\n",
      " 'generate_csv/valid__08.csv',\n",
      " 'generate_csv/valid__09.csv']\n",
      "test filenames\n",
      "['generate_csv/test__00.csv',\n",
      " 'generate_csv/test__01.csv',\n",
      " 'generate_csv/test__02.csv',\n",
      " 'generate_csv/test__03.csv',\n",
      " 'generate_csv/test__04.csv',\n",
      " 'generate_csv/test__05.csv',\n",
      " 'generate_csv/test__06.csv',\n",
      " 'generate_csv/test__07.csv',\n",
      " 'generate_csv/test__08.csv',\n",
      " 'generate_csv/test__09.csv']\n"
     ]
    }
   ],
   "source": [
    "import pprint\n",
    "print('train filenames')\n",
    "pprint.pprint(train_filenames)\n",
    "print('valid filenames')\n",
    "pprint.pprint(valid_filenames)\n",
    "print('test filenames')\n",
    "pprint.pprint(test_filenames)"
   ]
  },
  {
   "cell_type": "code",
   "execution_count": 7,
   "metadata": {},
   "outputs": [
    {
     "name": "stdout",
     "output_type": "stream",
     "text": [
      "tf.Tensor(b'generate_csv/train__18.csv', shape=(), dtype=string)\n",
      "tf.Tensor(b'generate_csv/train__02.csv', shape=(), dtype=string)\n",
      "tf.Tensor(b'generate_csv/train__17.csv', shape=(), dtype=string)\n",
      "tf.Tensor(b'generate_csv/train__12.csv', shape=(), dtype=string)\n",
      "tf.Tensor(b'generate_csv/train__10.csv', shape=(), dtype=string)\n",
      "tf.Tensor(b'generate_csv/train__06.csv', shape=(), dtype=string)\n",
      "tf.Tensor(b'generate_csv/train__00.csv', shape=(), dtype=string)\n",
      "tf.Tensor(b'generate_csv/train__11.csv', shape=(), dtype=string)\n",
      "tf.Tensor(b'generate_csv/train__03.csv', shape=(), dtype=string)\n",
      "tf.Tensor(b'generate_csv/train__16.csv', shape=(), dtype=string)\n",
      "tf.Tensor(b'generate_csv/train__08.csv', shape=(), dtype=string)\n",
      "tf.Tensor(b'generate_csv/train__15.csv', shape=(), dtype=string)\n",
      "tf.Tensor(b'generate_csv/train__14.csv', shape=(), dtype=string)\n",
      "tf.Tensor(b'generate_csv/train__09.csv', shape=(), dtype=string)\n",
      "tf.Tensor(b'generate_csv/train__13.csv', shape=(), dtype=string)\n",
      "tf.Tensor(b'generate_csv/train__01.csv', shape=(), dtype=string)\n",
      "tf.Tensor(b'generate_csv/train__07.csv', shape=(), dtype=string)\n",
      "tf.Tensor(b'generate_csv/train__04.csv', shape=(), dtype=string)\n",
      "tf.Tensor(b'generate_csv/train__05.csv', shape=(), dtype=string)\n",
      "tf.Tensor(b'generate_csv/train__19.csv', shape=(), dtype=string)\n"
     ]
    }
   ],
   "source": [
    "# 1.filename -> dataset\n",
    "# 2.read file -> dataset -> datasets -> merge\n",
    "# 3.parse csv\n",
    "\n",
    "filename_dataset = tf.data.Dataset.list_files(train_filenames)\n",
    "for filename in filename_dataset:\n",
    "    print(filename)"
   ]
  },
  {
   "cell_type": "code",
   "execution_count": 8,
   "metadata": {},
   "outputs": [
    {
     "name": "stdout",
     "output_type": "stream",
     "text": [
      "b'0.8095613521801492,0.34518428537112195,0.22347987936517727,-0.10669826574327357,-0.17047084206891044,0.008573079922849763,-0.841838842223145,0.739231082317489,2.349'\n",
      "b'-0.34681893647975504,-0.6120806264069084,-0.2993192081256999,0.04803324388614384,0.04851167062181197,-0.08686994126075745,-0.8184322867866667,0.7641648666509977,1.807'\n",
      "b'-1.0163746567322829,1.86085372901967,-0.8985310852575602,-0.053064742407918725,-0.8097313310391347,0.2399721267795869,-0.7669378648264085,0.6544562155835542,0.388'\n",
      "b'-0.8326912290523859,-0.21322024649939578,0.19590484389231774,0.28256634342161385,0.30623724325012375,-0.06698661284884411,-0.1770926678271232,-0.5473521892916272,2.47'\n",
      "b'-1.2510048415710915,1.3024491971491523,-1.3111452352989834,0.00781415440598808,-0.2184785467741842,0.08010877566205839,-0.7482126204772251,0.6594429724502586,1.875'\n",
      "b'0.5112344948394413,1.3024491971491523,0.13587658679582906,-0.10351732524563802,-0.6084358674503553,-0.10230906308235456,-0.7528939315645234,0.5347740507827086,5.00001'\n",
      "b'-0.17408668089943727,1.1429050451861473,-0.28727118870501034,0.22734597823192812,0.05524959408921882,-0.1643195612115563,0.9604659263857858,-1.4399816684312892,4.0'\n",
      "b'-1.0483288014093157,0.4249563613526245,-1.0226767825256236,-0.041374499138598725,1.5957073468251086,0.048038660282047556,-0.7388499983026352,0.6444827018501521,2.475'\n",
      "b'2.514875755358087,-0.6120806264069084,0.9274771622665903,-0.18491981184094955,-0.09130024132688004,0.06473156953538023,-0.8605640865723282,0.7691516235177022,3.867'\n",
      "b'1.4685362298243883,1.86085372901967,0.05410383197557077,-0.4459112894815877,-0.6581280530224808,0.03778752143131081,0.7872574161558378,-1.135789499562467,3.09'\n",
      "b'3.5210609831933297,-0.4525364744439034,0.7946855709899874,-0.20096979493338954,-0.4290386551306481,-0.04368524825750971,0.7872574161558378,-1.2405113937632062,5.00001'\n",
      "b'-1.049439789883186,0.9035888172416396,-0.47732880819119344,-0.05428230687307981,-0.38861111432620704,0.08197081200520384,-0.7341686872153369,0.6843767567837673,1.5'\n",
      "b'-0.8898277791371465,1.3024491971491523,-0.21717301875721895,-0.14899335962078586,-0.4273541742637964,-0.0002746105336503454,0.974509859647674,-1.3951008566309693,1.853'\n",
      "b'-0.8089901416098185,1.0631329692046447,0.005831284425777589,-0.06735244343007374,-0.2925957049156595,0.038509961964624105,0.6140489059258866,-0.47753759315779887,0.744'\n",
      "b'-0.06468076832972887,0.4249563613526245,-0.17507525767840892,-0.14232606656065583,0.07799008579171691,0.02638741857887702,0.8762023268144593,-1.220564366296402,1.904'\n"
     ]
    }
   ],
   "source": [
    "n_readers = 5\n",
    "dataset = filename_dataset.interleave(\n",
    "    lambda filename: tf.data.TextLineDataset(filename).skip(1),\n",
    "    cycle_length = n_readers\n",
    ")\n",
    "for line in dataset.take(15):\n",
    "    print(line.numpy())"
   ]
  },
  {
   "cell_type": "code",
   "execution_count": 9,
   "metadata": {},
   "outputs": [
    {
     "name": "stdout",
     "output_type": "stream",
     "text": [
      "[<tf.Tensor: shape=(), dtype=int32, numpy=1>, <tf.Tensor: shape=(), dtype=int32, numpy=2>, <tf.Tensor: shape=(), dtype=int32, numpy=3>, <tf.Tensor: shape=(), dtype=int32, numpy=4>, <tf.Tensor: shape=(), dtype=int32, numpy=5>]\n"
     ]
    }
   ],
   "source": [
    "# tf.io.decode_csv(str, record_defaults)\n",
    "\n",
    "sample_str = '1,2,3,4,5'\n",
    "record_deafults = [tf.constant(0, dtype=tf.int32)] * 5\n",
    "parsed_fields = tf.io.decode_csv(sample_str, record_deafults)\n",
    "print(parsed_fields)"
   ]
  },
  {
   "cell_type": "code",
   "execution_count": 10,
   "metadata": {},
   "outputs": [
    {
     "name": "stdout",
     "output_type": "stream",
     "text": [
      "[<tf.Tensor: shape=(), dtype=int32, numpy=1>, <tf.Tensor: shape=(), dtype=int32, numpy=2>, <tf.Tensor: shape=(), dtype=float32, numpy=3.0>, <tf.Tensor: shape=(), dtype=string, numpy=b'4'>, <tf.Tensor: shape=(), dtype=float32, numpy=5.0>]\n"
     ]
    }
   ],
   "source": [
    "# tf.io.decode_csv(str, record_defaults)\n",
    "\n",
    "sample_str = '1,2,3,4,5'\n",
    "record_deafults = [tf.constant(0, dtype=tf.int32),\n",
    "                  0,\n",
    "                  np.nan,\n",
    "                  'hello',\n",
    "                  tf.constant([])]\n",
    "parsed_fields = tf.io.decode_csv(sample_str, record_deafults)\n",
    "print(parsed_fields)"
   ]
  },
  {
   "cell_type": "code",
   "execution_count": null,
   "metadata": {},
   "outputs": [],
   "source": []
  }
 ],
 "metadata": {
  "kernelspec": {
   "display_name": "Python 3",
   "language": "python",
   "name": "python3"
  },
  "language_info": {
   "codemirror_mode": {
    "name": "ipython",
    "version": 3
   },
   "file_extension": ".py",
   "mimetype": "text/x-python",
   "name": "python",
   "nbconvert_exporter": "python",
   "pygments_lexer": "ipython3",
   "version": "3.6.9"
  }
 },
 "nbformat": 4,
 "nbformat_minor": 4
}
