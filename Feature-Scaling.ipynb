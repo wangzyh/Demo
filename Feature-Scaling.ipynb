{
 "cells": [
  {
   "cell_type": "markdown",
   "metadata": {},
   "source": [
    "### 数据归一化处理"
   ]
  },
  {
   "cell_type": "code",
   "execution_count": 1,
   "metadata": {},
   "outputs": [],
   "source": [
    "import numpy as np\n",
    "import matplotlib.pyplot as plt"
   ]
  },
  {
   "cell_type": "markdown",
   "metadata": {},
   "source": [
    "### 最值归一化 Normalization"
   ]
  },
  {
   "cell_type": "code",
   "execution_count": 2,
   "metadata": {},
   "outputs": [
    {
     "data": {
      "text/plain": [
       "array([80, 71, 64, 88, 62,  1, 40, 81, 12, 41, 24, 81, 88, 90, 80, 39, 90,\n",
       "       54, 62, 56, 22, 87, 91, 86, 12, 73, 71, 40, 97, 98, 22,  0, 99, 71,\n",
       "       21, 13, 53, 59, 86, 67, 20, 46, 34, 64, 37, 22,  6, 76,  8, 16, 75,\n",
       "       68, 53, 52, 57, 80, 85, 36, 34, 10, 15, 10, 21,  6, 53, 86, 51, 86,\n",
       "        6, 31, 76, 56, 99, 28, 53, 11, 16, 63,  4, 95, 15, 76, 10, 69, 17,\n",
       "       95,  4, 81, 54, 84, 49, 12, 62, 72, 23, 68, 46, 63, 36, 92])"
      ]
     },
     "execution_count": 2,
     "metadata": {},
     "output_type": "execute_result"
    }
   ],
   "source": [
    "x = np.random.randint(0, 100, size=100)\n",
    "x"
   ]
  },
  {
   "cell_type": "code",
   "execution_count": 3,
   "metadata": {},
   "outputs": [
    {
     "data": {
      "text/plain": [
       "array([0.80808081, 0.71717172, 0.64646465, 0.88888889, 0.62626263,\n",
       "       0.01010101, 0.4040404 , 0.81818182, 0.12121212, 0.41414141,\n",
       "       0.24242424, 0.81818182, 0.88888889, 0.90909091, 0.80808081,\n",
       "       0.39393939, 0.90909091, 0.54545455, 0.62626263, 0.56565657,\n",
       "       0.22222222, 0.87878788, 0.91919192, 0.86868687, 0.12121212,\n",
       "       0.73737374, 0.71717172, 0.4040404 , 0.97979798, 0.98989899,\n",
       "       0.22222222, 0.        , 1.        , 0.71717172, 0.21212121,\n",
       "       0.13131313, 0.53535354, 0.5959596 , 0.86868687, 0.67676768,\n",
       "       0.2020202 , 0.46464646, 0.34343434, 0.64646465, 0.37373737,\n",
       "       0.22222222, 0.06060606, 0.76767677, 0.08080808, 0.16161616,\n",
       "       0.75757576, 0.68686869, 0.53535354, 0.52525253, 0.57575758,\n",
       "       0.80808081, 0.85858586, 0.36363636, 0.34343434, 0.1010101 ,\n",
       "       0.15151515, 0.1010101 , 0.21212121, 0.06060606, 0.53535354,\n",
       "       0.86868687, 0.51515152, 0.86868687, 0.06060606, 0.31313131,\n",
       "       0.76767677, 0.56565657, 1.        , 0.28282828, 0.53535354,\n",
       "       0.11111111, 0.16161616, 0.63636364, 0.04040404, 0.95959596,\n",
       "       0.15151515, 0.76767677, 0.1010101 , 0.6969697 , 0.17171717,\n",
       "       0.95959596, 0.04040404, 0.81818182, 0.54545455, 0.84848485,\n",
       "       0.49494949, 0.12121212, 0.62626263, 0.72727273, 0.23232323,\n",
       "       0.68686869, 0.46464646, 0.63636364, 0.36363636, 0.92929293])"
      ]
     },
     "execution_count": 3,
     "metadata": {},
     "output_type": "execute_result"
    }
   ],
   "source": [
    "(x - np.min(x)) / (np.max(x) - np.min(x))"
   ]
  },
  {
   "cell_type": "code",
   "execution_count": 4,
   "metadata": {},
   "outputs": [],
   "source": [
    "X = np.random.randint(0, 100, (50, 2))"
   ]
  },
  {
   "cell_type": "code",
   "execution_count": 5,
   "metadata": {},
   "outputs": [
    {
     "data": {
      "text/plain": [
       "array([[67, 41],\n",
       "       [ 3, 49],\n",
       "       [43, 94],\n",
       "       [13, 71],\n",
       "       [22, 87],\n",
       "       [11, 68],\n",
       "       [76, 90],\n",
       "       [35,  5],\n",
       "       [19, 19],\n",
       "       [37, 52]])"
      ]
     },
     "execution_count": 5,
     "metadata": {},
     "output_type": "execute_result"
    }
   ],
   "source": [
    "X[:10,:]"
   ]
  },
  {
   "cell_type": "code",
   "execution_count": 6,
   "metadata": {},
   "outputs": [],
   "source": [
    "X = np.array(X, dtype=float)"
   ]
  },
  {
   "cell_type": "code",
   "execution_count": 7,
   "metadata": {},
   "outputs": [
    {
     "data": {
      "text/plain": [
       "array([[67., 41.],\n",
       "       [ 3., 49.],\n",
       "       [43., 94.],\n",
       "       [13., 71.],\n",
       "       [22., 87.],\n",
       "       [11., 68.],\n",
       "       [76., 90.],\n",
       "       [35.,  5.],\n",
       "       [19., 19.],\n",
       "       [37., 52.]])"
      ]
     },
     "execution_count": 7,
     "metadata": {},
     "output_type": "execute_result"
    }
   ],
   "source": [
    "X[:10,:]"
   ]
  },
  {
   "cell_type": "code",
   "execution_count": 8,
   "metadata": {},
   "outputs": [],
   "source": [
    "X[:,0] = (X[:,0] - np.min(X[:,0])) / (np.max(X[:,0]) - np.min(X[:,0]))"
   ]
  },
  {
   "cell_type": "code",
   "execution_count": 9,
   "metadata": {},
   "outputs": [],
   "source": [
    "X[:,1] = (X[:,1] - np.min(X[:,1])) / (np.max(X[:,1]) - np.min(X[:,1]))"
   ]
  },
  {
   "cell_type": "code",
   "execution_count": 10,
   "metadata": {},
   "outputs": [
    {
     "data": {
      "text/plain": [
       "array([[0.67010309, 0.38297872],\n",
       "       [0.01030928, 0.46808511],\n",
       "       [0.42268041, 0.94680851],\n",
       "       [0.11340206, 0.70212766],\n",
       "       [0.20618557, 0.87234043],\n",
       "       [0.09278351, 0.67021277],\n",
       "       [0.7628866 , 0.90425532],\n",
       "       [0.34020619, 0.        ],\n",
       "       [0.17525773, 0.14893617],\n",
       "       [0.36082474, 0.5       ]])"
      ]
     },
     "execution_count": 10,
     "metadata": {},
     "output_type": "execute_result"
    }
   ],
   "source": [
    "X[:10, :]"
   ]
  },
  {
   "cell_type": "code",
   "execution_count": 11,
   "metadata": {},
   "outputs": [
    {
     "data": {
      "text/plain": [
       "<matplotlib.collections.PathCollection at 0x1f7219df588>"
      ]
     },
     "execution_count": 11,
     "metadata": {},
     "output_type": "execute_result"
    },
    {
     "data": {
      "image/png": "[encoded data removed]",
      "text/plain": [
       "<Figure size 432x288 with 1 Axes>"
      ]
     },
     "metadata": {
      "needs_background": "light"
     },
     "output_type": "display_data"
    }
   ],
   "source": [
    "plt.scatter(X[:,0], X[:, 1])"
   ]
  },
  {
   "cell_type": "code",
   "execution_count": 12,
   "metadata": {},
   "outputs": [
    {
     "data": {
      "text/plain": [
       "0.4148453608247422"
      ]
     },
     "execution_count": 12,
     "metadata": {},
     "output_type": "execute_result"
    }
   ],
   "source": [
    "np.mean(X[:, 0])"
   ]
  },
  {
   "cell_type": "code",
   "execution_count": 13,
   "metadata": {},
   "outputs": [
    {
     "data": {
      "text/plain": [
       "0.29409868687831964"
      ]
     },
     "execution_count": 13,
     "metadata": {},
     "output_type": "execute_result"
    }
   ],
   "source": [
    "np.std(X[:, 0])"
   ]
  },
  {
   "cell_type": "code",
   "execution_count": 14,
   "metadata": {},
   "outputs": [
    {
     "data": {
      "text/plain": [
       "0.5336170212765957"
      ]
     },
     "execution_count": 14,
     "metadata": {},
     "output_type": "execute_result"
    }
   ],
   "source": [
    "np.mean(X[:, 1])"
   ]
  },
  {
   "cell_type": "code",
   "execution_count": 15,
   "metadata": {},
   "outputs": [
    {
     "data": {
      "text/plain": [
       "0.29579335279884483"
      ]
     },
     "execution_count": 15,
     "metadata": {},
     "output_type": "execute_result"
    }
   ],
   "source": [
    "np.std(X[:, 1])"
   ]
  },
  {
   "cell_type": "markdown",
   "metadata": {},
   "source": [
    "### 均值方差归一化 Standardization"
   ]
  },
  {
   "cell_type": "code",
   "execution_count": 16,
   "metadata": {},
   "outputs": [],
   "source": [
    "X2 = np.random.randint(0, 100, (50, 2))"
   ]
  },
  {
   "cell_type": "code",
   "execution_count": 17,
   "metadata": {},
   "outputs": [
    {
     "data": {
      "text/plain": [
       "array([[86., 57.],\n",
       "       [24., 19.],\n",
       "       [80., 14.],\n",
       "       [80., 45.],\n",
       "       [70., 82.],\n",
       "       [14.,  1.],\n",
       "       [83., 32.],\n",
       "       [56., 66.],\n",
       "       [46., 79.],\n",
       "       [ 4., 81.],\n",
       "       [75., 10.],\n",
       "       [94., 32.],\n",
       "       [64., 52.],\n",
       "       [43., 86.],\n",
       "       [91., 99.],\n",
       "       [76., 24.],\n",
       "       [57., 78.],\n",
       "       [73., 69.],\n",
       "       [68., 31.],\n",
       "       [87., 71.],\n",
       "       [17., 56.],\n",
       "       [16., 60.],\n",
       "       [69., 20.],\n",
       "       [81., 41.],\n",
       "       [44., 41.],\n",
       "       [53., 63.],\n",
       "       [56., 88.],\n",
       "       [41., 80.],\n",
       "       [31., 76.],\n",
       "       [37., 20.],\n",
       "       [35., 76.],\n",
       "       [80., 24.],\n",
       "       [83., 36.],\n",
       "       [99., 90.],\n",
       "       [27., 99.],\n",
       "       [62., 38.],\n",
       "       [35., 42.],\n",
       "       [57., 49.],\n",
       "       [85.,  3.],\n",
       "       [66., 89.],\n",
       "       [60., 92.],\n",
       "       [13., 66.],\n",
       "       [95., 43.],\n",
       "       [48.,  7.],\n",
       "       [20.,  1.],\n",
       "       [60., 40.],\n",
       "       [17., 70.],\n",
       "       [70., 55.],\n",
       "       [78., 89.],\n",
       "       [71., 81.]])"
      ]
     },
     "execution_count": 17,
     "metadata": {},
     "output_type": "execute_result"
    }
   ],
   "source": [
    "X2 = np.array(X2, dtype=float)\n",
    "X2"
   ]
  },
  {
   "cell_type": "code",
   "execution_count": 18,
   "metadata": {},
   "outputs": [],
   "source": [
    "X2[:, 0] = (X2[:, 0] - np.mean(X2[:, 0])) / np.std(X2[:,0])"
   ]
  },
  {
   "cell_type": "code",
   "execution_count": 19,
   "metadata": {},
   "outputs": [],
   "source": [
    "X2[:, 1] = (X2[:, 1] - np.mean(X2[:, 1])) / np.std(X2[:,1])"
   ]
  },
  {
   "cell_type": "code",
   "execution_count": 20,
   "metadata": {},
   "outputs": [
    {
     "data": {
      "text/plain": [
       "<matplotlib.collections.PathCollection at 0x1f721a8cb70>"
      ]
     },
     "execution_count": 20,
     "metadata": {},
     "output_type": "execute_result"
    },
    {
     "data": {
      "image/png": "[encoded data removed]",
      "text/plain": [
       "<Figure size 432x288 with 1 Axes>"
      ]
     },
     "metadata": {
      "needs_background": "light"
     },
     "output_type": "display_data"
    }
   ],
   "source": [
    "plt.scatter(X2[:, 0], X2[:, 1])"
   ]
  },
  {
   "cell_type": "code",
   "execution_count": 21,
   "metadata": {},
   "outputs": [
    {
     "data": {
      "text/plain": [
       "-1.3322676295501878e-17"
      ]
     },
     "execution_count": 21,
     "metadata": {},
     "output_type": "execute_result"
    }
   ],
   "source": [
    "np.mean(X2[:, 0])"
   ]
  },
  {
   "cell_type": "code",
   "execution_count": 22,
   "metadata": {},
   "outputs": [
    {
     "data": {
      "text/plain": [
       "0.9999999999999998"
      ]
     },
     "execution_count": 22,
     "metadata": {},
     "output_type": "execute_result"
    }
   ],
   "source": [
    "np.std(X2[:, 0])"
   ]
  },
  {
   "cell_type": "code",
   "execution_count": 23,
   "metadata": {},
   "outputs": [
    {
     "data": {
      "text/plain": [
       "9.103828801926283e-17"
      ]
     },
     "execution_count": 23,
     "metadata": {},
     "output_type": "execute_result"
    }
   ],
   "source": [
    "np.mean(X2[:, 1])"
   ]
  },
  {
   "cell_type": "code",
   "execution_count": 24,
   "metadata": {},
   "outputs": [
    {
     "data": {
      "text/plain": [
       "0.9999999999999999"
      ]
     },
     "execution_count": 24,
     "metadata": {},
     "output_type": "execute_result"
    }
   ],
   "source": [
    "np.std(X2[:, 1])"
   ]
  },
  {
   "cell_type": "code",
   "execution_count": null,
   "metadata": {},
   "outputs": [],
   "source": []
  }
 ],
 "metadata": {
  "kernelspec": {
   "display_name": "Python 3",
   "language": "python",
   "name": "python3"
  },
  "language_info": {
   "codemirror_mode": {
    "name": "ipython",
    "version": 3
   },
   "file_extension": ".py",
   "mimetype": "text/x-python",
   "name": "python",
   "nbconvert_exporter": "python",
   "pygments_lexer": "ipython3",
   "version": "3.6.8"
  }
 },
 "nbformat": 4,
 "nbformat_minor": 2
}
